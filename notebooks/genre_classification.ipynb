{
  "nbformat": 4,
  "nbformat_minor": 0,
  "metadata": {
    "kernelspec": {
      "language": "python",
      "display_name": "Python 3",
      "name": "python3"
    },
    "language_info": {
      "name": "python",
      "version": "3.7.6",
      "mimetype": "text/x-python",
      "codemirror_mode": {
        "name": "ipython",
        "version": 3
      },
      "pygments_lexer": "ipython3",
      "nbconvert_exporter": "python",
      "file_extension": ".py"
    },
    "colab": {
      "provenance": []
    },
    "accelerator": "GPU",
    "widgets": {
      "application/vnd.jupyter.widget-state+json": {
        "b7350bbb49c947e6b53153098d9d6f0c": {
          "model_module": "@jupyter-widgets/controls",
          "model_name": "HBoxModel",
          "state": {
            "_view_name": "HBoxView",
            "_dom_classes": [],
            "_model_name": "HBoxModel",
            "_view_module": "@jupyter-widgets/controls",
            "_model_module_version": "1.5.0",
            "_view_count": null,
            "_view_module_version": "1.5.0",
            "box_style": "",
            "layout": "IPY_MODEL_cfc78dd5ede34e158ede54bfb1dd0582",
            "_model_module": "@jupyter-widgets/controls",
            "children": [
              "IPY_MODEL_9b23c3fe2b7b482aa66b97d67cdbf5b1",
              "IPY_MODEL_969f79821a70402f8993e2072bb39c91"
            ]
          },
          "model_module_version": "1.5.0"
        },
        "cfc78dd5ede34e158ede54bfb1dd0582": {
          "model_module": "@jupyter-widgets/base",
          "model_name": "LayoutModel",
          "state": {
            "_view_name": "LayoutView",
            "grid_template_rows": null,
            "right": null,
            "justify_content": null,
            "_view_module": "@jupyter-widgets/base",
            "overflow": null,
            "_model_module_version": "1.2.0",
            "_view_count": null,
            "flex_flow": null,
            "width": null,
            "min_width": null,
            "border": null,
            "align_items": null,
            "bottom": null,
            "_model_module": "@jupyter-widgets/base",
            "top": null,
            "grid_column": null,
            "overflow_y": null,
            "overflow_x": null,
            "grid_auto_flow": null,
            "grid_area": null,
            "grid_template_columns": null,
            "flex": null,
            "_model_name": "LayoutModel",
            "justify_items": null,
            "grid_row": null,
            "max_height": null,
            "align_content": null,
            "visibility": null,
            "align_self": null,
            "height": null,
            "min_height": null,
            "padding": null,
            "grid_auto_rows": null,
            "grid_gap": null,
            "max_width": null,
            "order": null,
            "_view_module_version": "1.2.0",
            "grid_template_areas": null,
            "object_position": null,
            "object_fit": null,
            "grid_auto_columns": null,
            "margin": null,
            "display": null,
            "left": null
          },
          "model_module_version": "1.2.0"
        },
        "9b23c3fe2b7b482aa66b97d67cdbf5b1": {
          "model_module": "@jupyter-widgets/controls",
          "model_name": "FloatProgressModel",
          "state": {
            "_view_name": "ProgressView",
            "style": "IPY_MODEL_3baeaba7f88a4d41ae0a9ff1e7f442ea",
            "_dom_classes": [],
            "description": "Downloading: 100%",
            "_model_name": "FloatProgressModel",
            "bar_style": "success",
            "max": 231508,
            "_view_module": "@jupyter-widgets/controls",
            "_model_module_version": "1.5.0",
            "value": 231508,
            "_view_count": null,
            "_view_module_version": "1.5.0",
            "orientation": "horizontal",
            "min": 0,
            "description_tooltip": null,
            "_model_module": "@jupyter-widgets/controls",
            "layout": "IPY_MODEL_f14d4dfd75d54a368a5538a6ad6b75e8"
          },
          "model_module_version": "1.5.0"
        },
        "969f79821a70402f8993e2072bb39c91": {
          "model_module": "@jupyter-widgets/controls",
          "model_name": "HTMLModel",
          "state": {
            "_view_name": "HTMLView",
            "style": "IPY_MODEL_99afd94a90c14007b5a52210ae5c8567",
            "_dom_classes": [],
            "description": "",
            "_model_name": "HTMLModel",
            "placeholder": "​",
            "_view_module": "@jupyter-widgets/controls",
            "_model_module_version": "1.5.0",
            "value": " 232k/232k [00:00&lt;00:00, 628kB/s]",
            "_view_count": null,
            "_view_module_version": "1.5.0",
            "description_tooltip": null,
            "_model_module": "@jupyter-widgets/controls",
            "layout": "IPY_MODEL_5a7250e7d0044be097ecf5e3695c70d7"
          },
          "model_module_version": "1.5.0"
        },
        "3baeaba7f88a4d41ae0a9ff1e7f442ea": {
          "model_module": "@jupyter-widgets/controls",
          "model_name": "ProgressStyleModel",
          "state": {
            "_view_name": "StyleView",
            "_model_name": "ProgressStyleModel",
            "description_width": "initial",
            "_view_module": "@jupyter-widgets/base",
            "_model_module_version": "1.5.0",
            "_view_count": null,
            "_view_module_version": "1.2.0",
            "bar_color": null,
            "_model_module": "@jupyter-widgets/controls"
          },
          "model_module_version": "1.5.0"
        },
        "f14d4dfd75d54a368a5538a6ad6b75e8": {
          "model_module": "@jupyter-widgets/base",
          "model_name": "LayoutModel",
          "state": {
            "_view_name": "LayoutView",
            "grid_template_rows": null,
            "right": null,
            "justify_content": null,
            "_view_module": "@jupyter-widgets/base",
            "overflow": null,
            "_model_module_version": "1.2.0",
            "_view_count": null,
            "flex_flow": null,
            "width": null,
            "min_width": null,
            "border": null,
            "align_items": null,
            "bottom": null,
            "_model_module": "@jupyter-widgets/base",
            "top": null,
            "grid_column": null,
            "overflow_y": null,
            "overflow_x": null,
            "grid_auto_flow": null,
            "grid_area": null,
            "grid_template_columns": null,
            "flex": null,
            "_model_name": "LayoutModel",
            "justify_items": null,
            "grid_row": null,
            "max_height": null,
            "align_content": null,
            "visibility": null,
            "align_self": null,
            "height": null,
            "min_height": null,
            "padding": null,
            "grid_auto_rows": null,
            "grid_gap": null,
            "max_width": null,
            "order": null,
            "_view_module_version": "1.2.0",
            "grid_template_areas": null,
            "object_position": null,
            "object_fit": null,
            "grid_auto_columns": null,
            "margin": null,
            "display": null,
            "left": null
          },
          "model_module_version": "1.2.0"
        },
        "99afd94a90c14007b5a52210ae5c8567": {
          "model_module": "@jupyter-widgets/controls",
          "model_name": "DescriptionStyleModel",
          "state": {
            "_view_name": "StyleView",
            "_model_name": "DescriptionStyleModel",
            "description_width": "",
            "_view_module": "@jupyter-widgets/base",
            "_model_module_version": "1.5.0",
            "_view_count": null,
            "_view_module_version": "1.2.0",
            "_model_module": "@jupyter-widgets/controls"
          },
          "model_module_version": "1.5.0"
        },
        "5a7250e7d0044be097ecf5e3695c70d7": {
          "model_module": "@jupyter-widgets/base",
          "model_name": "LayoutModel",
          "state": {
            "_view_name": "LayoutView",
            "grid_template_rows": null,
            "right": null,
            "justify_content": null,
            "_view_module": "@jupyter-widgets/base",
            "overflow": null,
            "_model_module_version": "1.2.0",
            "_view_count": null,
            "flex_flow": null,
            "width": null,
            "min_width": null,
            "border": null,
            "align_items": null,
            "bottom": null,
            "_model_module": "@jupyter-widgets/base",
            "top": null,
            "grid_column": null,
            "overflow_y": null,
            "overflow_x": null,
            "grid_auto_flow": null,
            "grid_area": null,
            "grid_template_columns": null,
            "flex": null,
            "_model_name": "LayoutModel",
            "justify_items": null,
            "grid_row": null,
            "max_height": null,
            "align_content": null,
            "visibility": null,
            "align_self": null,
            "height": null,
            "min_height": null,
            "padding": null,
            "grid_auto_rows": null,
            "grid_gap": null,
            "max_width": null,
            "order": null,
            "_view_module_version": "1.2.0",
            "grid_template_areas": null,
            "object_position": null,
            "object_fit": null,
            "grid_auto_columns": null,
            "margin": null,
            "display": null,
            "left": null
          },
          "model_module_version": "1.2.0"
        },
        "7c54e5e6799b42c99e38171251ac84b7": {
          "model_module": "@jupyter-widgets/controls",
          "model_name": "HBoxModel",
          "state": {
            "_view_name": "HBoxView",
            "_dom_classes": [],
            "_model_name": "HBoxModel",
            "_view_module": "@jupyter-widgets/controls",
            "_model_module_version": "1.5.0",
            "_view_count": null,
            "_view_module_version": "1.5.0",
            "box_style": "",
            "layout": "IPY_MODEL_1c2fd2b989ba4d71baea139faa4c0c27",
            "_model_module": "@jupyter-widgets/controls",
            "children": [
              "IPY_MODEL_a1b1ca0ee7a741aa92c8930415694803",
              "IPY_MODEL_e1aab3f537e547ee8bb9b3ac9ffed730"
            ]
          },
          "model_module_version": "1.5.0"
        },
        "1c2fd2b989ba4d71baea139faa4c0c27": {
          "model_module": "@jupyter-widgets/base",
          "model_name": "LayoutModel",
          "state": {
            "_view_name": "LayoutView",
            "grid_template_rows": null,
            "right": null,
            "justify_content": null,
            "_view_module": "@jupyter-widgets/base",
            "overflow": null,
            "_model_module_version": "1.2.0",
            "_view_count": null,
            "flex_flow": null,
            "width": null,
            "min_width": null,
            "border": null,
            "align_items": null,
            "bottom": null,
            "_model_module": "@jupyter-widgets/base",
            "top": null,
            "grid_column": null,
            "overflow_y": null,
            "overflow_x": null,
            "grid_auto_flow": null,
            "grid_area": null,
            "grid_template_columns": null,
            "flex": null,
            "_model_name": "LayoutModel",
            "justify_items": null,
            "grid_row": null,
            "max_height": null,
            "align_content": null,
            "visibility": null,
            "align_self": null,
            "height": null,
            "min_height": null,
            "padding": null,
            "grid_auto_rows": null,
            "grid_gap": null,
            "max_width": null,
            "order": null,
            "_view_module_version": "1.2.0",
            "grid_template_areas": null,
            "object_position": null,
            "object_fit": null,
            "grid_auto_columns": null,
            "margin": null,
            "display": null,
            "left": null
          },
          "model_module_version": "1.2.0"
        },
        "a1b1ca0ee7a741aa92c8930415694803": {
          "model_module": "@jupyter-widgets/controls",
          "model_name": "FloatProgressModel",
          "state": {
            "_view_name": "ProgressView",
            "style": "IPY_MODEL_7c19682e1fa24cc7a65c4cdfb69a2f70",
            "_dom_classes": [],
            "description": "Downloading: 100%",
            "_model_name": "FloatProgressModel",
            "bar_style": "success",
            "max": 433,
            "_view_module": "@jupyter-widgets/controls",
            "_model_module_version": "1.5.0",
            "value": 433,
            "_view_count": null,
            "_view_module_version": "1.5.0",
            "orientation": "horizontal",
            "min": 0,
            "description_tooltip": null,
            "_model_module": "@jupyter-widgets/controls",
            "layout": "IPY_MODEL_d34ade2d15274829b976ca04db93a11a"
          },
          "model_module_version": "1.5.0"
        },
        "e1aab3f537e547ee8bb9b3ac9ffed730": {
          "model_module": "@jupyter-widgets/controls",
          "model_name": "HTMLModel",
          "state": {
            "_view_name": "HTMLView",
            "style": "IPY_MODEL_667dd2c09cd74158a3fe9fc5cbff927c",
            "_dom_classes": [],
            "description": "",
            "_model_name": "HTMLModel",
            "placeholder": "​",
            "_view_module": "@jupyter-widgets/controls",
            "_model_module_version": "1.5.0",
            "value": " 433/433 [00:00&lt;00:00, 4.51kB/s]",
            "_view_count": null,
            "_view_module_version": "1.5.0",
            "description_tooltip": null,
            "_model_module": "@jupyter-widgets/controls",
            "layout": "IPY_MODEL_6490b60e476f4d85bffed8ef5ebf4bb4"
          },
          "model_module_version": "1.5.0"
        },
        "7c19682e1fa24cc7a65c4cdfb69a2f70": {
          "model_module": "@jupyter-widgets/controls",
          "model_name": "ProgressStyleModel",
          "state": {
            "_view_name": "StyleView",
            "_model_name": "ProgressStyleModel",
            "description_width": "initial",
            "_view_module": "@jupyter-widgets/base",
            "_model_module_version": "1.5.0",
            "_view_count": null,
            "_view_module_version": "1.2.0",
            "bar_color": null,
            "_model_module": "@jupyter-widgets/controls"
          },
          "model_module_version": "1.5.0"
        },
        "d34ade2d15274829b976ca04db93a11a": {
          "model_module": "@jupyter-widgets/base",
          "model_name": "LayoutModel",
          "state": {
            "_view_name": "LayoutView",
            "grid_template_rows": null,
            "right": null,
            "justify_content": null,
            "_view_module": "@jupyter-widgets/base",
            "overflow": null,
            "_model_module_version": "1.2.0",
            "_view_count": null,
            "flex_flow": null,
            "width": null,
            "min_width": null,
            "border": null,
            "align_items": null,
            "bottom": null,
            "_model_module": "@jupyter-widgets/base",
            "top": null,
            "grid_column": null,
            "overflow_y": null,
            "overflow_x": null,
            "grid_auto_flow": null,
            "grid_area": null,
            "grid_template_columns": null,
            "flex": null,
            "_model_name": "LayoutModel",
            "justify_items": null,
            "grid_row": null,
            "max_height": null,
            "align_content": null,
            "visibility": null,
            "align_self": null,
            "height": null,
            "min_height": null,
            "padding": null,
            "grid_auto_rows": null,
            "grid_gap": null,
            "max_width": null,
            "order": null,
            "_view_module_version": "1.2.0",
            "grid_template_areas": null,
            "object_position": null,
            "object_fit": null,
            "grid_auto_columns": null,
            "margin": null,
            "display": null,
            "left": null
          },
          "model_module_version": "1.2.0"
        },
        "667dd2c09cd74158a3fe9fc5cbff927c": {
          "model_module": "@jupyter-widgets/controls",
          "model_name": "DescriptionStyleModel",
          "state": {
            "_view_name": "StyleView",
            "_model_name": "DescriptionStyleModel",
            "description_width": "",
            "_view_module": "@jupyter-widgets/base",
            "_model_module_version": "1.5.0",
            "_view_count": null,
            "_view_module_version": "1.2.0",
            "_model_module": "@jupyter-widgets/controls"
          },
          "model_module_version": "1.5.0"
        },
        "6490b60e476f4d85bffed8ef5ebf4bb4": {
          "model_module": "@jupyter-widgets/base",
          "model_name": "LayoutModel",
          "state": {
            "_view_name": "LayoutView",
            "grid_template_rows": null,
            "right": null,
            "justify_content": null,
            "_view_module": "@jupyter-widgets/base",
            "overflow": null,
            "_model_module_version": "1.2.0",
            "_view_count": null,
            "flex_flow": null,
            "width": null,
            "min_width": null,
            "border": null,
            "align_items": null,
            "bottom": null,
            "_model_module": "@jupyter-widgets/base",
            "top": null,
            "grid_column": null,
            "overflow_y": null,
            "overflow_x": null,
            "grid_auto_flow": null,
            "grid_area": null,
            "grid_template_columns": null,
            "flex": null,
            "_model_name": "LayoutModel",
            "justify_items": null,
            "grid_row": null,
            "max_height": null,
            "align_content": null,
            "visibility": null,
            "align_self": null,
            "height": null,
            "min_height": null,
            "padding": null,
            "grid_auto_rows": null,
            "grid_gap": null,
            "max_width": null,
            "order": null,
            "_view_module_version": "1.2.0",
            "grid_template_areas": null,
            "object_position": null,
            "object_fit": null,
            "grid_auto_columns": null,
            "margin": null,
            "display": null,
            "left": null
          },
          "model_module_version": "1.2.0"
        },
        "fd7c3765236548248c4c9e4c45899606": {
          "model_module": "@jupyter-widgets/controls",
          "model_name": "HBoxModel",
          "state": {
            "_view_name": "HBoxView",
            "_dom_classes": [],
            "_model_name": "HBoxModel",
            "_view_module": "@jupyter-widgets/controls",
            "_model_module_version": "1.5.0",
            "_view_count": null,
            "_view_module_version": "1.5.0",
            "box_style": "",
            "layout": "IPY_MODEL_7d0bae89a7c34309b3fe25737e94dd06",
            "_model_module": "@jupyter-widgets/controls",
            "children": [
              "IPY_MODEL_7fa6b2d9f5724804ac548eac99a5563e",
              "IPY_MODEL_544005b1f46e4ebfa08cc037176d56b0"
            ]
          },
          "model_module_version": "1.5.0"
        },
        "7d0bae89a7c34309b3fe25737e94dd06": {
          "model_module": "@jupyter-widgets/base",
          "model_name": "LayoutModel",
          "state": {
            "_view_name": "LayoutView",
            "grid_template_rows": null,
            "right": null,
            "justify_content": null,
            "_view_module": "@jupyter-widgets/base",
            "overflow": null,
            "_model_module_version": "1.2.0",
            "_view_count": null,
            "flex_flow": null,
            "width": null,
            "min_width": null,
            "border": null,
            "align_items": null,
            "bottom": null,
            "_model_module": "@jupyter-widgets/base",
            "top": null,
            "grid_column": null,
            "overflow_y": null,
            "overflow_x": null,
            "grid_auto_flow": null,
            "grid_area": null,
            "grid_template_columns": null,
            "flex": null,
            "_model_name": "LayoutModel",
            "justify_items": null,
            "grid_row": null,
            "max_height": null,
            "align_content": null,
            "visibility": null,
            "align_self": null,
            "height": null,
            "min_height": null,
            "padding": null,
            "grid_auto_rows": null,
            "grid_gap": null,
            "max_width": null,
            "order": null,
            "_view_module_version": "1.2.0",
            "grid_template_areas": null,
            "object_position": null,
            "object_fit": null,
            "grid_auto_columns": null,
            "margin": null,
            "display": null,
            "left": null
          },
          "model_module_version": "1.2.0"
        },
        "7fa6b2d9f5724804ac548eac99a5563e": {
          "model_module": "@jupyter-widgets/controls",
          "model_name": "FloatProgressModel",
          "state": {
            "_view_name": "ProgressView",
            "style": "IPY_MODEL_9c0d44ec19084705b51d235d92465469",
            "_dom_classes": [],
            "description": "Downloading: 100%",
            "_model_name": "FloatProgressModel",
            "bar_style": "success",
            "max": 536063208,
            "_view_module": "@jupyter-widgets/controls",
            "_model_module_version": "1.5.0",
            "value": 536063208,
            "_view_count": null,
            "_view_module_version": "1.5.0",
            "orientation": "horizontal",
            "min": 0,
            "description_tooltip": null,
            "_model_module": "@jupyter-widgets/controls",
            "layout": "IPY_MODEL_63bd4953450243fc947029af00f06ea9"
          },
          "model_module_version": "1.5.0"
        },
        "544005b1f46e4ebfa08cc037176d56b0": {
          "model_module": "@jupyter-widgets/controls",
          "model_name": "HTMLModel",
          "state": {
            "_view_name": "HTMLView",
            "style": "IPY_MODEL_5570a6c6f35f4f228b0408afb9cc7a29",
            "_dom_classes": [],
            "description": "",
            "_model_name": "HTMLModel",
            "placeholder": "​",
            "_view_module": "@jupyter-widgets/controls",
            "_model_module_version": "1.5.0",
            "value": " 536M/536M [00:12&lt;00:00, 42.3MB/s]",
            "_view_count": null,
            "_view_module_version": "1.5.0",
            "description_tooltip": null,
            "_model_module": "@jupyter-widgets/controls",
            "layout": "IPY_MODEL_aca2ec2dc56f4a5db509bddf05cd29aa"
          },
          "model_module_version": "1.5.0"
        },
        "9c0d44ec19084705b51d235d92465469": {
          "model_module": "@jupyter-widgets/controls",
          "model_name": "ProgressStyleModel",
          "state": {
            "_view_name": "StyleView",
            "_model_name": "ProgressStyleModel",
            "description_width": "initial",
            "_view_module": "@jupyter-widgets/base",
            "_model_module_version": "1.5.0",
            "_view_count": null,
            "_view_module_version": "1.2.0",
            "bar_color": null,
            "_model_module": "@jupyter-widgets/controls"
          },
          "model_module_version": "1.5.0"
        },
        "63bd4953450243fc947029af00f06ea9": {
          "model_module": "@jupyter-widgets/base",
          "model_name": "LayoutModel",
          "state": {
            "_view_name": "LayoutView",
            "grid_template_rows": null,
            "right": null,
            "justify_content": null,
            "_view_module": "@jupyter-widgets/base",
            "overflow": null,
            "_model_module_version": "1.2.0",
            "_view_count": null,
            "flex_flow": null,
            "width": null,
            "min_width": null,
            "border": null,
            "align_items": null,
            "bottom": null,
            "_model_module": "@jupyter-widgets/base",
            "top": null,
            "grid_column": null,
            "overflow_y": null,
            "overflow_x": null,
            "grid_auto_flow": null,
            "grid_area": null,
            "grid_template_columns": null,
            "flex": null,
            "_model_name": "LayoutModel",
            "justify_items": null,
            "grid_row": null,
            "max_height": null,
            "align_content": null,
            "visibility": null,
            "align_self": null,
            "height": null,
            "min_height": null,
            "padding": null,
            "grid_auto_rows": null,
            "grid_gap": null,
            "max_width": null,
            "order": null,
            "_view_module_version": "1.2.0",
            "grid_template_areas": null,
            "object_position": null,
            "object_fit": null,
            "grid_auto_columns": null,
            "margin": null,
            "display": null,
            "left": null
          },
          "model_module_version": "1.2.0"
        },
        "5570a6c6f35f4f228b0408afb9cc7a29": {
          "model_module": "@jupyter-widgets/controls",
          "model_name": "DescriptionStyleModel",
          "state": {
            "_view_name": "StyleView",
            "_model_name": "DescriptionStyleModel",
            "description_width": "",
            "_view_module": "@jupyter-widgets/base",
            "_model_module_version": "1.5.0",
            "_view_count": null,
            "_view_module_version": "1.2.0",
            "_model_module": "@jupyter-widgets/controls"
          },
          "model_module_version": "1.5.0"
        },
        "aca2ec2dc56f4a5db509bddf05cd29aa": {
          "model_module": "@jupyter-widgets/base",
          "model_name": "LayoutModel",
          "state": {
            "_view_name": "LayoutView",
            "grid_template_rows": null,
            "right": null,
            "justify_content": null,
            "_view_module": "@jupyter-widgets/base",
            "overflow": null,
            "_model_module_version": "1.2.0",
            "_view_count": null,
            "flex_flow": null,
            "width": null,
            "min_width": null,
            "border": null,
            "align_items": null,
            "bottom": null,
            "_model_module": "@jupyter-widgets/base",
            "top": null,
            "grid_column": null,
            "overflow_y": null,
            "overflow_x": null,
            "grid_auto_flow": null,
            "grid_area": null,
            "grid_template_columns": null,
            "flex": null,
            "_model_name": "LayoutModel",
            "justify_items": null,
            "grid_row": null,
            "max_height": null,
            "align_content": null,
            "visibility": null,
            "align_self": null,
            "height": null,
            "min_height": null,
            "padding": null,
            "grid_auto_rows": null,
            "grid_gap": null,
            "max_width": null,
            "order": null,
            "_view_module_version": "1.2.0",
            "grid_template_areas": null,
            "object_position": null,
            "object_fit": null,
            "grid_auto_columns": null,
            "margin": null,
            "display": null,
            "left": null
          },
          "model_module_version": "1.2.0"
        }
      }
    }
  },
  "cells": [
    {
      "cell_type": "code",
      "metadata": {
        "id": "gDFpf4vdVoF2",
        "trusted": true,
        "colab": {
          "base_uri": "https://localhost:8080/",
          "height": 621
        },
        "outputId": "6a525780-35d6-4afa-ae1e-b44ae2e9dfb8"
      },
      "source": [
        "!pip install transformers"
      ],
      "execution_count": null,
      "outputs": [
        {
          "output_type": "stream",
          "text": [
            "Collecting transformers\n",
            "\u001b[?25l  Downloading https://files.pythonhosted.org/packages/ae/05/c8c55b600308dc04e95100dc8ad8a244dd800fe75dfafcf1d6348c6f6209/transformers-3.1.0-py3-none-any.whl (884kB)\n",
            "\r\u001b[K     |▍                               | 10kB 27.3MB/s eta 0:00:01\r\u001b[K     |▊                               | 20kB 6.0MB/s eta 0:00:01\r\u001b[K     |█▏                              | 30kB 7.2MB/s eta 0:00:01\r\u001b[K     |█▌                              | 40kB 7.5MB/s eta 0:00:01\r\u001b[K     |█▉                              | 51kB 6.8MB/s eta 0:00:01\r\u001b[K     |██▎                             | 61kB 7.4MB/s eta 0:00:01\r\u001b[K     |██▋                             | 71kB 8.3MB/s eta 0:00:01\r\u001b[K     |███                             | 81kB 8.8MB/s eta 0:00:01\r\u001b[K     |███▍                            | 92kB 8.8MB/s eta 0:00:01\r\u001b[K     |███▊                            | 102kB 9.0MB/s eta 0:00:01\r\u001b[K     |████                            | 112kB 9.0MB/s eta 0:00:01\r\u001b[K     |████▌                           | 122kB 9.0MB/s eta 0:00:01\r\u001b[K     |████▉                           | 133kB 9.0MB/s eta 0:00:01\r\u001b[K     |█████▏                          | 143kB 9.0MB/s eta 0:00:01\r\u001b[K     |█████▋                          | 153kB 9.0MB/s eta 0:00:01\r\u001b[K     |██████                          | 163kB 9.0MB/s eta 0:00:01\r\u001b[K     |██████▎                         | 174kB 9.0MB/s eta 0:00:01\r\u001b[K     |██████▊                         | 184kB 9.0MB/s eta 0:00:01\r\u001b[K     |███████                         | 194kB 9.0MB/s eta 0:00:01\r\u001b[K     |███████▍                        | 204kB 9.0MB/s eta 0:00:01\r\u001b[K     |███████▉                        | 215kB 9.0MB/s eta 0:00:01\r\u001b[K     |████████▏                       | 225kB 9.0MB/s eta 0:00:01\r\u001b[K     |████████▌                       | 235kB 9.0MB/s eta 0:00:01\r\u001b[K     |█████████                       | 245kB 9.0MB/s eta 0:00:01\r\u001b[K     |█████████▎                      | 256kB 9.0MB/s eta 0:00:01\r\u001b[K     |█████████▋                      | 266kB 9.0MB/s eta 0:00:01\r\u001b[K     |██████████                      | 276kB 9.0MB/s eta 0:00:01\r\u001b[K     |██████████▍                     | 286kB 9.0MB/s eta 0:00:01\r\u001b[K     |██████████▊                     | 296kB 9.0MB/s eta 0:00:01\r\u001b[K     |███████████▏                    | 307kB 9.0MB/s eta 0:00:01\r\u001b[K     |███████████▌                    | 317kB 9.0MB/s eta 0:00:01\r\u001b[K     |███████████▉                    | 327kB 9.0MB/s eta 0:00:01\r\u001b[K     |████████████▎                   | 337kB 9.0MB/s eta 0:00:01\r\u001b[K     |████████████▋                   | 348kB 9.0MB/s eta 0:00:01\r\u001b[K     |█████████████                   | 358kB 9.0MB/s eta 0:00:01\r\u001b[K     |█████████████▍                  | 368kB 9.0MB/s eta 0:00:01\r\u001b[K     |█████████████▊                  | 378kB 9.0MB/s eta 0:00:01\r\u001b[K     |██████████████                  | 389kB 9.0MB/s eta 0:00:01\r\u001b[K     |██████████████▌                 | 399kB 9.0MB/s eta 0:00:01\r\u001b[K     |██████████████▉                 | 409kB 9.0MB/s eta 0:00:01\r\u001b[K     |███████████████▏                | 419kB 9.0MB/s eta 0:00:01\r\u001b[K     |███████████████▋                | 430kB 9.0MB/s eta 0:00:01\r\u001b[K     |████████████████                | 440kB 9.0MB/s eta 0:00:01\r\u001b[K     |████████████████▎               | 450kB 9.0MB/s eta 0:00:01\r\u001b[K     |████████████████▊               | 460kB 9.0MB/s eta 0:00:01\r\u001b[K     |█████████████████               | 471kB 9.0MB/s eta 0:00:01\r\u001b[K     |█████████████████▍              | 481kB 9.0MB/s eta 0:00:01\r\u001b[K     |█████████████████▉              | 491kB 9.0MB/s eta 0:00:01\r\u001b[K     |██████████████████▏             | 501kB 9.0MB/s eta 0:00:01\r\u001b[K     |██████████████████▌             | 512kB 9.0MB/s eta 0:00:01\r\u001b[K     |███████████████████             | 522kB 9.0MB/s eta 0:00:01\r\u001b[K     |███████████████████▎            | 532kB 9.0MB/s eta 0:00:01\r\u001b[K     |███████████████████▋            | 542kB 9.0MB/s eta 0:00:01\r\u001b[K     |████████████████████            | 552kB 9.0MB/s eta 0:00:01\r\u001b[K     |████████████████████▍           | 563kB 9.0MB/s eta 0:00:01\r\u001b[K     |████████████████████▊           | 573kB 9.0MB/s eta 0:00:01\r\u001b[K     |█████████████████████▏          | 583kB 9.0MB/s eta 0:00:01\r\u001b[K     |█████████████████████▌          | 593kB 9.0MB/s eta 0:00:01\r\u001b[K     |█████████████████████▉          | 604kB 9.0MB/s eta 0:00:01\r\u001b[K     |██████████████████████▎         | 614kB 9.0MB/s eta 0:00:01\r\u001b[K     |██████████████████████▋         | 624kB 9.0MB/s eta 0:00:01\r\u001b[K     |███████████████████████         | 634kB 9.0MB/s eta 0:00:01\r\u001b[K     |███████████████████████▍        | 645kB 9.0MB/s eta 0:00:01\r\u001b[K     |███████████████████████▊        | 655kB 9.0MB/s eta 0:00:01\r\u001b[K     |████████████████████████        | 665kB 9.0MB/s eta 0:00:01\r\u001b[K     |████████████████████████▌       | 675kB 9.0MB/s eta 0:00:01\r\u001b[K     |████████████████████████▉       | 686kB 9.0MB/s eta 0:00:01\r\u001b[K     |█████████████████████████▏      | 696kB 9.0MB/s eta 0:00:01\r\u001b[K     |█████████████████████████▋      | 706kB 9.0MB/s eta 0:00:01\r\u001b[K     |██████████████████████████      | 716kB 9.0MB/s eta 0:00:01\r\u001b[K     |██████████████████████████▎     | 727kB 9.0MB/s eta 0:00:01\r\u001b[K     |██████████████████████████▊     | 737kB 9.0MB/s eta 0:00:01\r\u001b[K     |███████████████████████████     | 747kB 9.0MB/s eta 0:00:01\r\u001b[K     |███████████████████████████▍    | 757kB 9.0MB/s eta 0:00:01\r\u001b[K     |███████████████████████████▉    | 768kB 9.0MB/s eta 0:00:01\r\u001b[K     |████████████████████████████▏   | 778kB 9.0MB/s eta 0:00:01\r\u001b[K     |████████████████████████████▌   | 788kB 9.0MB/s eta 0:00:01\r\u001b[K     |█████████████████████████████   | 798kB 9.0MB/s eta 0:00:01\r\u001b[K     |█████████████████████████████▎  | 808kB 9.0MB/s eta 0:00:01\r\u001b[K     |█████████████████████████████▋  | 819kB 9.0MB/s eta 0:00:01\r\u001b[K     |██████████████████████████████  | 829kB 9.0MB/s eta 0:00:01\r\u001b[K     |██████████████████████████████▍ | 839kB 9.0MB/s eta 0:00:01\r\u001b[K     |██████████████████████████████▊ | 849kB 9.0MB/s eta 0:00:01\r\u001b[K     |███████████████████████████████▏| 860kB 9.0MB/s eta 0:00:01\r\u001b[K     |███████████████████████████████▌| 870kB 9.0MB/s eta 0:00:01\r\u001b[K     |███████████████████████████████▉| 880kB 9.0MB/s eta 0:00:01\r\u001b[K     |████████████████████████████████| 890kB 9.0MB/s \n",
            "\u001b[?25hRequirement already satisfied: filelock in /usr/local/lib/python3.6/dist-packages (from transformers) (3.0.12)\n",
            "Collecting tokenizers==0.8.1.rc2\n",
            "\u001b[?25l  Downloading https://files.pythonhosted.org/packages/80/83/8b9fccb9e48eeb575ee19179e2bdde0ee9a1904f97de5f02d19016b8804f/tokenizers-0.8.1rc2-cp36-cp36m-manylinux1_x86_64.whl (3.0MB)\n",
            "\u001b[K     |████████████████████████████████| 3.0MB 5.5MB/s \n",
            "\u001b[?25hRequirement already satisfied: requests in /usr/local/lib/python3.6/dist-packages (from transformers) (2.23.0)\n",
            "Requirement already satisfied: tqdm>=4.27 in /usr/local/lib/python3.6/dist-packages (from transformers) (4.41.1)\n",
            "Requirement already satisfied: regex!=2019.12.17 in /usr/local/lib/python3.6/dist-packages (from transformers) (2019.12.20)\n",
            "Requirement already satisfied: dataclasses; python_version < \"3.7\" in /usr/local/lib/python3.6/dist-packages (from transformers) (0.7)\n",
            "Collecting sentencepiece!=0.1.92\n",
            "\u001b[?25l  Downloading https://files.pythonhosted.org/packages/d4/a4/d0a884c4300004a78cca907a6ff9a5e9fe4f090f5d95ab341c53d28cbc58/sentencepiece-0.1.91-cp36-cp36m-manylinux1_x86_64.whl (1.1MB)\n",
            "\u001b[K     |████████████████████████████████| 1.1MB 54.0MB/s \n",
            "\u001b[?25hRequirement already satisfied: packaging in /usr/local/lib/python3.6/dist-packages (from transformers) (20.4)\n",
            "Requirement already satisfied: numpy in /usr/local/lib/python3.6/dist-packages (from transformers) (1.18.5)\n",
            "Collecting sacremoses\n",
            "\u001b[?25l  Downloading https://files.pythonhosted.org/packages/7d/34/09d19aff26edcc8eb2a01bed8e98f13a1537005d31e95233fd48216eed10/sacremoses-0.0.43.tar.gz (883kB)\n",
            "\u001b[K     |████████████████████████████████| 890kB 55.2MB/s \n",
            "\u001b[?25hRequirement already satisfied: idna<3,>=2.5 in /usr/local/lib/python3.6/dist-packages (from requests->transformers) (2.10)\n",
            "Requirement already satisfied: urllib3!=1.25.0,!=1.25.1,<1.26,>=1.21.1 in /usr/local/lib/python3.6/dist-packages (from requests->transformers) (1.24.3)\n",
            "Requirement already satisfied: chardet<4,>=3.0.2 in /usr/local/lib/python3.6/dist-packages (from requests->transformers) (3.0.4)\n",
            "Requirement already satisfied: certifi>=2017.4.17 in /usr/local/lib/python3.6/dist-packages (from requests->transformers) (2020.6.20)\n",
            "Requirement already satisfied: pyparsing>=2.0.2 in /usr/local/lib/python3.6/dist-packages (from packaging->transformers) (2.4.7)\n",
            "Requirement already satisfied: six in /usr/local/lib/python3.6/dist-packages (from packaging->transformers) (1.15.0)\n",
            "Requirement already satisfied: click in /usr/local/lib/python3.6/dist-packages (from sacremoses->transformers) (7.1.2)\n",
            "Requirement already satisfied: joblib in /usr/local/lib/python3.6/dist-packages (from sacremoses->transformers) (0.16.0)\n",
            "Building wheels for collected packages: sacremoses\n",
            "  Building wheel for sacremoses (setup.py) ... \u001b[?25l\u001b[?25hdone\n",
            "  Created wheel for sacremoses: filename=sacremoses-0.0.43-cp36-none-any.whl size=893257 sha256=182f74da4bcf259e0400ceec3693e679b632f53d7506571b6e050200c9312e2e\n",
            "  Stored in directory: /root/.cache/pip/wheels/29/3c/fd/7ce5c3f0666dab31a50123635e6fb5e19ceb42ce38d4e58f45\n",
            "Successfully built sacremoses\n",
            "Installing collected packages: tokenizers, sentencepiece, sacremoses, transformers\n",
            "Successfully installed sacremoses-0.0.43 sentencepiece-0.1.91 tokenizers-0.8.1rc2 transformers-3.1.0\n"
          ],
          "name": "stdout"
        }
      ]
    },
    {
      "cell_type": "code",
      "metadata": {
        "id": "dfQhnbtxkrow",
        "trusted": true,
        "colab": {
          "base_uri": "https://localhost:8080/",
          "height": 124
        },
        "outputId": "dbd1972d-9292-4bc6-8580-c53762900c4e"
      },
      "source": [
        "# Importing the libs\n",
        "\n",
        "import tensorflow as tf\n",
        "import pandas as pd\n",
        "import numpy as np\n",
        "import matplotlib.pyplot as plt\n",
        "import seaborn as sns\n",
        "import os\n",
        "import tarfile\n",
        "from sklearn.model_selection import train_test_split\n",
        "import json\n",
        "from sklearn.preprocessing import MultiLabelBinarizer\n",
        "import re\n",
        "\n",
        "import nltk\n",
        "from nltk.corpus import stopwords\n",
        "from nltk.tokenize import word_tokenize\n",
        "from nltk.stem import WordNetLemmatizer\n",
        "\n",
        "nltk.download(\"stopwords\")\n",
        "nltk.download('wordnet')\n",
        "stop_words = set(stopwords.words('english'))\n",
        "\n",
        "import transformers\n",
        "import numpy as np\n",
        "from transformers import TFXLNetForSequenceClassification, XLNetTokenizer"
      ],
      "execution_count": null,
      "outputs": [
        {
          "output_type": "stream",
          "text": [
            "/usr/local/lib/python3.6/dist-packages/statsmodels/tools/_testing.py:19: FutureWarning: pandas.util.testing is deprecated. Use the functions in the public API at pandas.testing instead.\n",
            "  import pandas.util.testing as tm\n"
          ],
          "name": "stderr"
        },
        {
          "output_type": "stream",
          "text": [
            "[nltk_data] Downloading package stopwords to /root/nltk_data...\n",
            "[nltk_data]   Unzipping corpora/stopwords.zip.\n",
            "[nltk_data] Downloading package wordnet to /root/nltk_data...\n",
            "[nltk_data]   Unzipping corpora/wordnet.zip.\n"
          ],
          "name": "stdout"
        }
      ]
    },
    {
      "cell_type": "code",
      "metadata": {
        "id": "DwNfd3OwkyO5",
        "trusted": true,
        "colab": {
          "base_uri": "https://localhost:8080/",
          "height": 52
        },
        "outputId": "eaaa3aee-fe13-42cb-e734-8805b8aeb32f"
      },
      "source": [
        "# Downloading the dataset\n",
        "\n",
        "url = 'http://www.cs.cmu.edu/~ark/personas/data/MovieSummaries.tar.gz'\n",
        "dataset = tf.keras.utils.get_file('dataset', url)"
      ],
      "execution_count": null,
      "outputs": [
        {
          "output_type": "stream",
          "text": [
            "Downloading data from http://www.cs.cmu.edu/~ark/personas/data/MovieSummaries.tar.gz\n",
            "48005120/48002242 [==============================] - 78s 2us/step\n"
          ],
          "name": "stdout"
        }
      ]
    },
    {
      "cell_type": "code",
      "metadata": {
        "id": "60ksNTFhlmjM",
        "trusted": true
      },
      "source": [
        "# Extracting the dataset\n",
        "\n",
        "tarred_file = tarfile.open(dataset)\n",
        "tarred_file.extractall(path=\"/data\")\n",
        "tarred_file.close()"
      ],
      "execution_count": null,
      "outputs": []
    },
    {
      "cell_type": "code",
      "metadata": {
        "id": "qVqeu3RUl__k",
        "trusted": true,
        "colab": {
          "base_uri": "https://localhost:8080/",
          "height": 52
        },
        "outputId": "21473217-8898-40f7-bcf4-d179bbbf53b8"
      },
      "source": [
        "ls /data/MovieSummaries/"
      ],
      "execution_count": null,
      "outputs": [
        {
          "output_type": "stream",
          "text": [
            "character.metadata.tsv  name.clusters.txt   README.txt\n",
            "movie.metadata.tsv      plot_summaries.txt  tvtropes.clusters.txt\n"
          ],
          "name": "stdout"
        }
      ]
    },
    {
      "cell_type": "code",
      "metadata": {
        "id": "rqgK9-w1mmxZ",
        "trusted": true
      },
      "source": [
        "# !cat /data/MovieSummaries/README.txt"
      ],
      "execution_count": null,
      "outputs": []
    },
    {
      "cell_type": "code",
      "metadata": {
        "id": "05ea0yq9nmPH",
        "trusted": true
      },
      "source": [
        "# Reading the movie metadata\n",
        "\n",
        "meta_cols = ['W_ID', 'F_ID', 'Name', 'Release_Date', 'Revenue', 'Runtime', 'Languages', 'Countries', 'Genres']\n",
        "\n",
        "movie_meta = pd.read_csv('/data/MovieSummaries/movie.metadata.tsv', delimiter='\\t', header=None, names=meta_cols)"
      ],
      "execution_count": null,
      "outputs": []
    },
    {
      "cell_type": "code",
      "metadata": {
        "id": "eS5JmyHsobZu",
        "trusted": true,
        "colab": {
          "base_uri": "https://localhost:8080/",
          "height": 261
        },
        "outputId": "6266d51e-2edc-4cf4-cfa2-4809eada43f1"
      },
      "source": [
        "movie_meta.head()"
      ],
      "execution_count": null,
      "outputs": [
        {
          "output_type": "execute_result",
          "data": {
            "text/html": [
              "<div>\n",
              "<style scoped>\n",
              "    .dataframe tbody tr th:only-of-type {\n",
              "        vertical-align: middle;\n",
              "    }\n",
              "\n",
              "    .dataframe tbody tr th {\n",
              "        vertical-align: top;\n",
              "    }\n",
              "\n",
              "    .dataframe thead th {\n",
              "        text-align: right;\n",
              "    }\n",
              "</style>\n",
              "<table border=\"1\" class=\"dataframe\">\n",
              "  <thead>\n",
              "    <tr style=\"text-align: right;\">\n",
              "      <th></th>\n",
              "      <th>W_ID</th>\n",
              "      <th>F_ID</th>\n",
              "      <th>Name</th>\n",
              "      <th>Release_Date</th>\n",
              "      <th>Revenue</th>\n",
              "      <th>Runtime</th>\n",
              "      <th>Languages</th>\n",
              "      <th>Countries</th>\n",
              "      <th>Genres</th>\n",
              "    </tr>\n",
              "  </thead>\n",
              "  <tbody>\n",
              "    <tr>\n",
              "      <th>0</th>\n",
              "      <td>975900</td>\n",
              "      <td>/m/03vyhn</td>\n",
              "      <td>Ghosts of Mars</td>\n",
              "      <td>2001-08-24</td>\n",
              "      <td>14010832.0</td>\n",
              "      <td>98.0</td>\n",
              "      <td>{\"/m/02h40lc\": \"English Language\"}</td>\n",
              "      <td>{\"/m/09c7w0\": \"United States of America\"}</td>\n",
              "      <td>{\"/m/01jfsb\": \"Thriller\", \"/m/06n90\": \"Science...</td>\n",
              "    </tr>\n",
              "    <tr>\n",
              "      <th>1</th>\n",
              "      <td>3196793</td>\n",
              "      <td>/m/08yl5d</td>\n",
              "      <td>Getting Away with Murder: The JonBenét Ramsey ...</td>\n",
              "      <td>2000-02-16</td>\n",
              "      <td>NaN</td>\n",
              "      <td>95.0</td>\n",
              "      <td>{\"/m/02h40lc\": \"English Language\"}</td>\n",
              "      <td>{\"/m/09c7w0\": \"United States of America\"}</td>\n",
              "      <td>{\"/m/02n4kr\": \"Mystery\", \"/m/03bxz7\": \"Biograp...</td>\n",
              "    </tr>\n",
              "    <tr>\n",
              "      <th>2</th>\n",
              "      <td>28463795</td>\n",
              "      <td>/m/0crgdbh</td>\n",
              "      <td>Brun bitter</td>\n",
              "      <td>1988</td>\n",
              "      <td>NaN</td>\n",
              "      <td>83.0</td>\n",
              "      <td>{\"/m/05f_3\": \"Norwegian Language\"}</td>\n",
              "      <td>{\"/m/05b4w\": \"Norway\"}</td>\n",
              "      <td>{\"/m/0lsxr\": \"Crime Fiction\", \"/m/07s9rl0\": \"D...</td>\n",
              "    </tr>\n",
              "    <tr>\n",
              "      <th>3</th>\n",
              "      <td>9363483</td>\n",
              "      <td>/m/0285_cd</td>\n",
              "      <td>White Of The Eye</td>\n",
              "      <td>1987</td>\n",
              "      <td>NaN</td>\n",
              "      <td>110.0</td>\n",
              "      <td>{\"/m/02h40lc\": \"English Language\"}</td>\n",
              "      <td>{\"/m/07ssc\": \"United Kingdom\"}</td>\n",
              "      <td>{\"/m/01jfsb\": \"Thriller\", \"/m/0glj9q\": \"Erotic...</td>\n",
              "    </tr>\n",
              "    <tr>\n",
              "      <th>4</th>\n",
              "      <td>261236</td>\n",
              "      <td>/m/01mrr1</td>\n",
              "      <td>A Woman in Flames</td>\n",
              "      <td>1983</td>\n",
              "      <td>NaN</td>\n",
              "      <td>106.0</td>\n",
              "      <td>{\"/m/04306rv\": \"German Language\"}</td>\n",
              "      <td>{\"/m/0345h\": \"Germany\"}</td>\n",
              "      <td>{\"/m/07s9rl0\": \"Drama\"}</td>\n",
              "    </tr>\n",
              "  </tbody>\n",
              "</table>\n",
              "</div>"
            ],
            "text/plain": [
              "       W_ID  ...                                             Genres\n",
              "0    975900  ...  {\"/m/01jfsb\": \"Thriller\", \"/m/06n90\": \"Science...\n",
              "1   3196793  ...  {\"/m/02n4kr\": \"Mystery\", \"/m/03bxz7\": \"Biograp...\n",
              "2  28463795  ...  {\"/m/0lsxr\": \"Crime Fiction\", \"/m/07s9rl0\": \"D...\n",
              "3   9363483  ...  {\"/m/01jfsb\": \"Thriller\", \"/m/0glj9q\": \"Erotic...\n",
              "4    261236  ...                            {\"/m/07s9rl0\": \"Drama\"}\n",
              "\n",
              "[5 rows x 9 columns]"
            ]
          },
          "metadata": {
            "tags": []
          },
          "execution_count": 8
        }
      ]
    },
    {
      "cell_type": "code",
      "metadata": {
        "id": "RShu7vYrodEu",
        "trusted": true,
        "colab": {
          "base_uri": "https://localhost:8080/",
          "height": 301
        },
        "outputId": "f736316c-225d-41b1-fde0-1809bfcf7a63"
      },
      "source": [
        "movie_meta.info()"
      ],
      "execution_count": null,
      "outputs": [
        {
          "output_type": "stream",
          "text": [
            "<class 'pandas.core.frame.DataFrame'>\n",
            "RangeIndex: 81741 entries, 0 to 81740\n",
            "Data columns (total 9 columns):\n",
            " #   Column        Non-Null Count  Dtype  \n",
            "---  ------        --------------  -----  \n",
            " 0   W_ID          81741 non-null  int64  \n",
            " 1   F_ID          81741 non-null  object \n",
            " 2   Name          81741 non-null  object \n",
            " 3   Release_Date  74839 non-null  object \n",
            " 4   Revenue       8401 non-null   float64\n",
            " 5   Runtime       61291 non-null  float64\n",
            " 6   Languages     81741 non-null  object \n",
            " 7   Countries     81741 non-null  object \n",
            " 8   Genres        81741 non-null  object \n",
            "dtypes: float64(2), int64(1), object(6)\n",
            "memory usage: 5.6+ MB\n"
          ],
          "name": "stdout"
        }
      ]
    },
    {
      "cell_type": "code",
      "metadata": {
        "id": "EdRm9ew4onoZ",
        "trusted": true,
        "colab": {
          "base_uri": "https://localhost:8080/",
          "height": 194
        },
        "outputId": "c0c68c08-8441-4c3b-8a93-c91021857443"
      },
      "source": [
        "# Reading movie summaries\n",
        "\n",
        "plot_cols = ['W_ID', 'Plot']\n",
        "plot_sum = pd.read_csv(\"/data/MovieSummaries/plot_summaries.txt\", sep='\\t', encoding='utf-8', header=None, names=plot_cols)\n",
        "plot_sum.head()"
      ],
      "execution_count": null,
      "outputs": [
        {
          "output_type": "execute_result",
          "data": {
            "text/html": [
              "<div>\n",
              "<style scoped>\n",
              "    .dataframe tbody tr th:only-of-type {\n",
              "        vertical-align: middle;\n",
              "    }\n",
              "\n",
              "    .dataframe tbody tr th {\n",
              "        vertical-align: top;\n",
              "    }\n",
              "\n",
              "    .dataframe thead th {\n",
              "        text-align: right;\n",
              "    }\n",
              "</style>\n",
              "<table border=\"1\" class=\"dataframe\">\n",
              "  <thead>\n",
              "    <tr style=\"text-align: right;\">\n",
              "      <th></th>\n",
              "      <th>W_ID</th>\n",
              "      <th>Plot</th>\n",
              "    </tr>\n",
              "  </thead>\n",
              "  <tbody>\n",
              "    <tr>\n",
              "      <th>0</th>\n",
              "      <td>23890098</td>\n",
              "      <td>Shlykov, a hard-working taxi driver and Lyosha...</td>\n",
              "    </tr>\n",
              "    <tr>\n",
              "      <th>1</th>\n",
              "      <td>31186339</td>\n",
              "      <td>The nation of Panem consists of a wealthy Capi...</td>\n",
              "    </tr>\n",
              "    <tr>\n",
              "      <th>2</th>\n",
              "      <td>20663735</td>\n",
              "      <td>Poovalli Induchoodan  is sentenced for six yea...</td>\n",
              "    </tr>\n",
              "    <tr>\n",
              "      <th>3</th>\n",
              "      <td>2231378</td>\n",
              "      <td>The Lemon Drop Kid , a New York City swindler,...</td>\n",
              "    </tr>\n",
              "    <tr>\n",
              "      <th>4</th>\n",
              "      <td>595909</td>\n",
              "      <td>Seventh-day Adventist Church pastor Michael Ch...</td>\n",
              "    </tr>\n",
              "  </tbody>\n",
              "</table>\n",
              "</div>"
            ],
            "text/plain": [
              "       W_ID                                               Plot\n",
              "0  23890098  Shlykov, a hard-working taxi driver and Lyosha...\n",
              "1  31186339  The nation of Panem consists of a wealthy Capi...\n",
              "2  20663735  Poovalli Induchoodan  is sentenced for six yea...\n",
              "3   2231378  The Lemon Drop Kid , a New York City swindler,...\n",
              "4    595909  Seventh-day Adventist Church pastor Michael Ch..."
            ]
          },
          "metadata": {
            "tags": []
          },
          "execution_count": 10
        }
      ]
    },
    {
      "cell_type": "code",
      "metadata": {
        "id": "CSas9kO-pXxq",
        "trusted": true,
        "colab": {
          "base_uri": "https://localhost:8080/",
          "height": 177
        },
        "outputId": "0edb398c-b835-4514-ada7-86e52ce67819"
      },
      "source": [
        "plot_sum.info()"
      ],
      "execution_count": null,
      "outputs": [
        {
          "output_type": "stream",
          "text": [
            "<class 'pandas.core.frame.DataFrame'>\n",
            "RangeIndex: 42303 entries, 0 to 42302\n",
            "Data columns (total 2 columns):\n",
            " #   Column  Non-Null Count  Dtype \n",
            "---  ------  --------------  ----- \n",
            " 0   W_ID    42303 non-null  int64 \n",
            " 1   Plot    42303 non-null  object\n",
            "dtypes: int64(1), object(1)\n",
            "memory usage: 661.1+ KB\n"
          ],
          "name": "stdout"
        }
      ]
    },
    {
      "cell_type": "code",
      "metadata": {
        "id": "_pgT6WhXqdR6",
        "trusted": true,
        "colab": {
          "base_uri": "https://localhost:8080/",
          "height": 340
        },
        "outputId": "66487727-34bc-4ccb-e00c-2589e29ace52"
      },
      "source": [
        "# Merging movie metadata and movie summaries\n",
        "\n",
        "result = pd.merge(plot_sum, movie_meta[['W_ID', 'Genres']], on = 'W_ID')\n",
        "result.head(10)"
      ],
      "execution_count": null,
      "outputs": [
        {
          "output_type": "execute_result",
          "data": {
            "text/html": [
              "<div>\n",
              "<style scoped>\n",
              "    .dataframe tbody tr th:only-of-type {\n",
              "        vertical-align: middle;\n",
              "    }\n",
              "\n",
              "    .dataframe tbody tr th {\n",
              "        vertical-align: top;\n",
              "    }\n",
              "\n",
              "    .dataframe thead th {\n",
              "        text-align: right;\n",
              "    }\n",
              "</style>\n",
              "<table border=\"1\" class=\"dataframe\">\n",
              "  <thead>\n",
              "    <tr style=\"text-align: right;\">\n",
              "      <th></th>\n",
              "      <th>W_ID</th>\n",
              "      <th>Plot</th>\n",
              "      <th>Genres</th>\n",
              "    </tr>\n",
              "  </thead>\n",
              "  <tbody>\n",
              "    <tr>\n",
              "      <th>0</th>\n",
              "      <td>23890098</td>\n",
              "      <td>Shlykov, a hard-working taxi driver and Lyosha...</td>\n",
              "      <td>{\"/m/07s9rl0\": \"Drama\", \"/m/03q4nz\": \"World ci...</td>\n",
              "    </tr>\n",
              "    <tr>\n",
              "      <th>1</th>\n",
              "      <td>31186339</td>\n",
              "      <td>The nation of Panem consists of a wealthy Capi...</td>\n",
              "      <td>{\"/m/03btsm8\": \"Action/Adventure\", \"/m/06n90\":...</td>\n",
              "    </tr>\n",
              "    <tr>\n",
              "      <th>2</th>\n",
              "      <td>20663735</td>\n",
              "      <td>Poovalli Induchoodan  is sentenced for six yea...</td>\n",
              "      <td>{\"/m/04t36\": \"Musical\", \"/m/02kdv5l\": \"Action\"...</td>\n",
              "    </tr>\n",
              "    <tr>\n",
              "      <th>3</th>\n",
              "      <td>2231378</td>\n",
              "      <td>The Lemon Drop Kid , a New York City swindler,...</td>\n",
              "      <td>{\"/m/06qm3\": \"Screwball comedy\", \"/m/01z4y\": \"...</td>\n",
              "    </tr>\n",
              "    <tr>\n",
              "      <th>4</th>\n",
              "      <td>595909</td>\n",
              "      <td>Seventh-day Adventist Church pastor Michael Ch...</td>\n",
              "      <td>{\"/m/0lsxr\": \"Crime Fiction\", \"/m/07s9rl0\": \"D...</td>\n",
              "    </tr>\n",
              "    <tr>\n",
              "      <th>5</th>\n",
              "      <td>5272176</td>\n",
              "      <td>The president is on his way to give a speech. ...</td>\n",
              "      <td>{\"/m/01jfsb\": \"Thriller\", \"/m/03btsm8\": \"Actio...</td>\n",
              "    </tr>\n",
              "    <tr>\n",
              "      <th>6</th>\n",
              "      <td>1952976</td>\n",
              "      <td>{{plot}} The film opens in 1974, as a young gi...</td>\n",
              "      <td>{\"/m/01jfsb\": \"Thriller\", \"/m/07s9rl0\": \"Drama...</td>\n",
              "    </tr>\n",
              "    <tr>\n",
              "      <th>7</th>\n",
              "      <td>24225279</td>\n",
              "      <td>The story begins with Hannah, a young Jewish t...</td>\n",
              "      <td>{\"/m/07s9rl0\": \"Drama\", \"/m/02b5_l\": \"Teen\"}</td>\n",
              "    </tr>\n",
              "    <tr>\n",
              "      <th>8</th>\n",
              "      <td>2462689</td>\n",
              "      <td>Infuriated at being told to write one final co...</td>\n",
              "      <td>{\"/m/06cvj\": \"Romantic comedy\", \"/m/0hj3nby\": ...</td>\n",
              "    </tr>\n",
              "    <tr>\n",
              "      <th>9</th>\n",
              "      <td>20532852</td>\n",
              "      <td>A line of people  drool at the window of the s...</td>\n",
              "      <td>{\"/m/02hmvc\": \"Short Film\", \"/m/0hqxf\": \"Famil...</td>\n",
              "    </tr>\n",
              "  </tbody>\n",
              "</table>\n",
              "</div>"
            ],
            "text/plain": [
              "       W_ID  ...                                             Genres\n",
              "0  23890098  ...  {\"/m/07s9rl0\": \"Drama\", \"/m/03q4nz\": \"World ci...\n",
              "1  31186339  ...  {\"/m/03btsm8\": \"Action/Adventure\", \"/m/06n90\":...\n",
              "2  20663735  ...  {\"/m/04t36\": \"Musical\", \"/m/02kdv5l\": \"Action\"...\n",
              "3   2231378  ...  {\"/m/06qm3\": \"Screwball comedy\", \"/m/01z4y\": \"...\n",
              "4    595909  ...  {\"/m/0lsxr\": \"Crime Fiction\", \"/m/07s9rl0\": \"D...\n",
              "5   5272176  ...  {\"/m/01jfsb\": \"Thriller\", \"/m/03btsm8\": \"Actio...\n",
              "6   1952976  ...  {\"/m/01jfsb\": \"Thriller\", \"/m/07s9rl0\": \"Drama...\n",
              "7  24225279  ...       {\"/m/07s9rl0\": \"Drama\", \"/m/02b5_l\": \"Teen\"}\n",
              "8   2462689  ...  {\"/m/06cvj\": \"Romantic comedy\", \"/m/0hj3nby\": ...\n",
              "9  20532852  ...  {\"/m/02hmvc\": \"Short Film\", \"/m/0hqxf\": \"Famil...\n",
              "\n",
              "[10 rows x 3 columns]"
            ]
          },
          "metadata": {
            "tags": []
          },
          "execution_count": 12
        }
      ]
    },
    {
      "cell_type": "code",
      "metadata": {
        "id": "5kslMHbEtSJc",
        "trusted": true,
        "colab": {
          "base_uri": "https://localhost:8080/",
          "height": 195
        },
        "outputId": "5aac3420-5615-404b-81be-1ca0491da198"
      },
      "source": [
        "result.info()"
      ],
      "execution_count": null,
      "outputs": [
        {
          "output_type": "stream",
          "text": [
            "<class 'pandas.core.frame.DataFrame'>\n",
            "Int64Index: 42204 entries, 0 to 42203\n",
            "Data columns (total 3 columns):\n",
            " #   Column  Non-Null Count  Dtype \n",
            "---  ------  --------------  ----- \n",
            " 0   W_ID    42204 non-null  int64 \n",
            " 1   Plot    42204 non-null  object\n",
            " 2   Genres  42204 non-null  object\n",
            "dtypes: int64(1), object(2)\n",
            "memory usage: 1.3+ MB\n"
          ],
          "name": "stdout"
        }
      ]
    },
    {
      "cell_type": "code",
      "metadata": {
        "id": "VXjer8hLtczA",
        "trusted": true
      },
      "source": [
        "def extract_values(dic):\n",
        "  \"\"\" Extract the Genre data\n",
        "      Args:\n",
        "        dic: key value pair with key containing the actual genre\n",
        "  \"\"\"\n",
        "  val = list(json.loads(dic).values())\n",
        "  return val\n",
        "\n",
        "result['Genres'] = result['Genres'].apply(extract_values)"
      ],
      "execution_count": null,
      "outputs": []
    },
    {
      "cell_type": "code",
      "metadata": {
        "id": "fnVKr1S80jN2",
        "trusted": true,
        "colab": {
          "base_uri": "https://localhost:8080/",
          "height": 194
        },
        "outputId": "5455144e-bca9-428d-8ef4-ed388c753bf1"
      },
      "source": [
        "result.head()"
      ],
      "execution_count": null,
      "outputs": [
        {
          "output_type": "execute_result",
          "data": {
            "text/html": [
              "<div>\n",
              "<style scoped>\n",
              "    .dataframe tbody tr th:only-of-type {\n",
              "        vertical-align: middle;\n",
              "    }\n",
              "\n",
              "    .dataframe tbody tr th {\n",
              "        vertical-align: top;\n",
              "    }\n",
              "\n",
              "    .dataframe thead th {\n",
              "        text-align: right;\n",
              "    }\n",
              "</style>\n",
              "<table border=\"1\" class=\"dataframe\">\n",
              "  <thead>\n",
              "    <tr style=\"text-align: right;\">\n",
              "      <th></th>\n",
              "      <th>W_ID</th>\n",
              "      <th>Plot</th>\n",
              "      <th>Genres</th>\n",
              "    </tr>\n",
              "  </thead>\n",
              "  <tbody>\n",
              "    <tr>\n",
              "      <th>0</th>\n",
              "      <td>23890098</td>\n",
              "      <td>Shlykov, a hard-working taxi driver and Lyosha...</td>\n",
              "      <td>[Drama, World cinema]</td>\n",
              "    </tr>\n",
              "    <tr>\n",
              "      <th>1</th>\n",
              "      <td>31186339</td>\n",
              "      <td>The nation of Panem consists of a wealthy Capi...</td>\n",
              "      <td>[Action/Adventure, Science Fiction, Action, Dr...</td>\n",
              "    </tr>\n",
              "    <tr>\n",
              "      <th>2</th>\n",
              "      <td>20663735</td>\n",
              "      <td>Poovalli Induchoodan  is sentenced for six yea...</td>\n",
              "      <td>[Musical, Action, Drama, Bollywood]</td>\n",
              "    </tr>\n",
              "    <tr>\n",
              "      <th>3</th>\n",
              "      <td>2231378</td>\n",
              "      <td>The Lemon Drop Kid , a New York City swindler,...</td>\n",
              "      <td>[Screwball comedy, Comedy]</td>\n",
              "    </tr>\n",
              "    <tr>\n",
              "      <th>4</th>\n",
              "      <td>595909</td>\n",
              "      <td>Seventh-day Adventist Church pastor Michael Ch...</td>\n",
              "      <td>[Crime Fiction, Drama, Docudrama, World cinema...</td>\n",
              "    </tr>\n",
              "  </tbody>\n",
              "</table>\n",
              "</div>"
            ],
            "text/plain": [
              "       W_ID  ...                                             Genres\n",
              "0  23890098  ...                              [Drama, World cinema]\n",
              "1  31186339  ...  [Action/Adventure, Science Fiction, Action, Dr...\n",
              "2  20663735  ...                [Musical, Action, Drama, Bollywood]\n",
              "3   2231378  ...                         [Screwball comedy, Comedy]\n",
              "4    595909  ...  [Crime Fiction, Drama, Docudrama, World cinema...\n",
              "\n",
              "[5 rows x 3 columns]"
            ]
          },
          "metadata": {
            "tags": []
          },
          "execution_count": 15
        }
      ]
    },
    {
      "cell_type": "code",
      "metadata": {
        "id": "gcVczfKl-hZv",
        "trusted": true
      },
      "source": [
        "def pre_process_text(text):\n",
        "  \"\"\" Preprocessing of the text\n",
        "    Args:\n",
        "      text: The text to be pre-processed\n",
        "  \"\"\"\n",
        "  text = text.lower()\n",
        "  text = re.sub(\"[^a-z]\",\" \",text)\n",
        "  text = ' '.join(text.split())\n",
        "  return text\n",
        "\n",
        "\n",
        "result['Plot'] = result['Plot'].apply(pre_process_text)"
      ],
      "execution_count": null,
      "outputs": []
    },
    {
      "cell_type": "code",
      "metadata": {
        "id": "k7gN_vZIBKHg",
        "trusted": true
      },
      "source": [
        "def remove_stopwords(text):\n",
        "  \"\"\" Removes stopwords from the text\n",
        "    Args:\n",
        "      text: The text from which stop words are to be removed\n",
        "  \"\"\"\n",
        "  proc_text = [w for w in text.split() if not w in stop_words]\n",
        "  return \" \".join(proc_text)"
      ],
      "execution_count": null,
      "outputs": []
    },
    {
      "cell_type": "code",
      "metadata": {
        "id": "z_LMhyvTDPQ0",
        "trusted": true
      },
      "source": [
        "result['Plot'] = result['Plot'].apply(remove_stopwords)"
      ],
      "execution_count": null,
      "outputs": []
    },
    {
      "cell_type": "code",
      "metadata": {
        "id": "tvpjGIoxEuYm",
        "trusted": true
      },
      "source": [
        "word_lemmatizer = WordNetLemmatizer()\n",
        "\n",
        "def lemmatize(text):\n",
        "  \"\"\" Lemmatize the text\n",
        "    Args:\n",
        "      text : The text which has to be lemmatized\n",
        "  \"\"\"\n",
        "  proc_text = [word_lemmatizer.lemmatize(w) for w in text.split()]\n",
        "  return \" \".join(proc_text)"
      ],
      "execution_count": null,
      "outputs": []
    },
    {
      "cell_type": "code",
      "metadata": {
        "id": "IxFlMnwRHskf",
        "trusted": true
      },
      "source": [
        "result['Plot'] = result['Plot'].apply(lemmatize)"
      ],
      "execution_count": null,
      "outputs": []
    },
    {
      "cell_type": "code",
      "metadata": {
        "id": "ZjMWvaHfW1P6",
        "trusted": true
      },
      "source": [
        "# Converting all Genre values in lower case\n",
        "\n",
        "result['Genres'] = result['Genres'].apply(lambda x: [g.lower() for g in x])"
      ],
      "execution_count": null,
      "outputs": []
    },
    {
      "cell_type": "code",
      "metadata": {
        "id": "ocFRjIWGZtbC",
        "trusted": true
      },
      "source": [
        "# Fucntion to append all genre in list. Just used for counting freq of each genre\n",
        "\n",
        "genre_list = []\n",
        "for genre in result['Genres']:\n",
        "  genre_list.extend(genre)\n",
        ""
      ],
      "execution_count": null,
      "outputs": []
    },
    {
      "cell_type": "code",
      "metadata": {
        "id": "lKuFkoK-ZthZ",
        "trusted": true,
        "colab": {
          "base_uri": "https://localhost:8080/",
          "height": 35
        },
        "outputId": "fb7ac001-4b3a-403b-fb69-f57ae4294eeb"
      },
      "source": [
        "len(genre_list)"
      ],
      "execution_count": null,
      "outputs": [
        {
          "output_type": "execute_result",
          "data": {
            "text/plain": [
              "150775"
            ]
          },
          "metadata": {
            "tags": []
          },
          "execution_count": 20
        }
      ]
    },
    {
      "cell_type": "code",
      "metadata": {
        "id": "c6S8XKpaXGly",
        "trusted": true
      },
      "source": [
        "# Counting the frequency of each genre\n",
        "\n",
        "from collections import Counter\n",
        "\n",
        "counts = Counter(genre_list)"
      ],
      "execution_count": null,
      "outputs": []
    },
    {
      "cell_type": "code",
      "metadata": {
        "id": "DDyAlfvIb-wt",
        "trusted": true
      },
      "source": [
        "# Creating a dataframe of genre along with its frequency\n",
        "\n",
        "genre_count_df = pd.DataFrame({\n",
        "    'Genre': list(counts.keys()),\n",
        "    'Count': list(counts.values())\n",
        "})"
      ],
      "execution_count": null,
      "outputs": []
    },
    {
      "cell_type": "code",
      "metadata": {
        "id": "6JoCWENqdBlB",
        "trusted": true,
        "colab": {
          "base_uri": "https://localhost:8080/",
          "height": 266
        },
        "outputId": "556aee93-b26d-4b70-b4c0-00a67cf10462"
      },
      "source": [
        "print(genre_count_df.sort_values(by=['Count']))"
      ],
      "execution_count": null,
      "outputs": [
        {
          "output_type": "stream",
          "text": [
            "            Genre  Count\n",
            "362    neorealism      1\n",
            "323   ninja movie      1\n",
            "346       c-movie      1\n",
            "340   linguistics      1\n",
            "350    breakdance      1\n",
            "..            ...    ...\n",
            "4          action   5868\n",
            "12       thriller   6530\n",
            "20   romance film   6666\n",
            "8          comedy  10467\n",
            "0           drama  19134\n",
            "\n",
            "[363 rows x 2 columns]\n"
          ],
          "name": "stdout"
        }
      ]
    },
    {
      "cell_type": "code",
      "metadata": {
        "id": "AFwqUTANlZb7",
        "trusted": true
      },
      "source": [
        "threshold = 20"
      ],
      "execution_count": null,
      "outputs": []
    },
    {
      "cell_type": "code",
      "metadata": {
        "id": "O10vavj4dhzw",
        "trusted": true
      },
      "source": [
        "# Creating a dataframe of genre with count less than threshold\n",
        "\n",
        "less_than_thresh = genre_count_df[genre_count_df['Count'] < threshold]\n",
        "\n",
        "remove_list = less_than_thresh['Genre'].values"
      ],
      "execution_count": null,
      "outputs": []
    },
    {
      "cell_type": "code",
      "metadata": {
        "id": "odaWV-BKi71b",
        "trusted": true,
        "colab": {
          "base_uri": "https://localhost:8080/",
          "height": 35
        },
        "outputId": "68fe2d13-d4be-4027-98cd-fd606ec7c455"
      },
      "source": [
        "len(remove_list)"
      ],
      "execution_count": null,
      "outputs": [
        {
          "output_type": "execute_result",
          "data": {
            "text/plain": [
              "147"
            ]
          },
          "metadata": {
            "tags": []
          },
          "execution_count": 26
        }
      ]
    },
    {
      "cell_type": "code",
      "metadata": {
        "id": "8yJTAxtyjeqq",
        "trusted": true
      },
      "source": [
        "def remove_below_thresh(item):\n",
        "  \"\"\" Removes all genre which have frequency less than the threshold value\n",
        "  \"\"\"\n",
        "  new_item = []\n",
        "  for genre in item:\n",
        "    if genre not in remove_list:\n",
        "      new_item.append(genre)\n",
        "\n",
        "  return new_item\n"
      ],
      "execution_count": null,
      "outputs": []
    },
    {
      "cell_type": "code",
      "metadata": {
        "id": "-W93mmfqi-wS",
        "trusted": true
      },
      "source": [
        "# Removing genre below threshold\n",
        "\n",
        "result['Genres'] = result['Genres'].apply(remove_below_thresh)"
      ],
      "execution_count": null,
      "outputs": []
    },
    {
      "cell_type": "code",
      "metadata": {
        "id": "2qD3j4JOkJcT",
        "trusted": true
      },
      "source": [
        "# Counting the no of genre left after removing below threshold genres\n",
        "\n",
        "new_genlist = []\n",
        "for genre in result['Genres']:\n",
        "  new_genlist.extend(genre)"
      ],
      "execution_count": null,
      "outputs": []
    },
    {
      "cell_type": "code",
      "metadata": {
        "id": "zoryphNakJWJ",
        "trusted": true,
        "colab": {
          "base_uri": "https://localhost:8080/",
          "height": 35
        },
        "outputId": "9803b009-c9cb-472f-827a-dd8907bcb185"
      },
      "source": [
        "len(set(new_genlist))"
      ],
      "execution_count": null,
      "outputs": [
        {
          "output_type": "execute_result",
          "data": {
            "text/plain": [
              "216"
            ]
          },
          "metadata": {
            "tags": []
          },
          "execution_count": 30
        }
      ]
    },
    {
      "cell_type": "code",
      "metadata": {
        "id": "7wGZkdVBysFb",
        "trusted": true,
        "colab": {
          "base_uri": "https://localhost:8080/",
          "height": 1000
        },
        "outputId": "db525ac9-dca1-40a6-9213-3eee43843d86"
      },
      "source": [
        "set(new_genlist)"
      ],
      "execution_count": null,
      "outputs": [
        {
          "output_type": "execute_result",
          "data": {
            "text/plain": [
              "{'absurdism',\n",
              " 'action',\n",
              " 'action comedy',\n",
              " 'action thrillers',\n",
              " 'action/adventure',\n",
              " 'addiction drama',\n",
              " 'adult',\n",
              " 'adventure',\n",
              " 'adventure comedy',\n",
              " 'airplanes and airports',\n",
              " 'alien film',\n",
              " 'americana',\n",
              " 'animal picture',\n",
              " 'animated cartoon',\n",
              " 'animated musical',\n",
              " 'animation',\n",
              " 'anime',\n",
              " 'anti-war',\n",
              " 'anti-war film',\n",
              " 'apocalyptic and post-apocalyptic fiction',\n",
              " 'art film',\n",
              " 'auto racing',\n",
              " 'avant-garde',\n",
              " 'b-movie',\n",
              " 'backstage musical',\n",
              " 'biker film',\n",
              " 'biographical film',\n",
              " 'biography',\n",
              " 'biopic [feature]',\n",
              " 'black comedy',\n",
              " 'black-and-white',\n",
              " 'blaxploitation',\n",
              " 'bollywood',\n",
              " 'boxing',\n",
              " 'british empire film',\n",
              " 'buddy film',\n",
              " 'caper story',\n",
              " 'chase movie',\n",
              " 'childhood drama',\n",
              " \"children's\",\n",
              " \"children's fantasy\",\n",
              " \"children's/family\",\n",
              " 'chinese movies',\n",
              " 'christian film',\n",
              " 'christmas movie',\n",
              " 'combat films',\n",
              " 'comedy',\n",
              " 'comedy film',\n",
              " 'comedy of errors',\n",
              " 'comedy of manners',\n",
              " 'comedy thriller',\n",
              " 'comedy western',\n",
              " 'comedy-drama',\n",
              " 'coming of age',\n",
              " 'computer animation',\n",
              " 'costume adventure',\n",
              " 'costume drama',\n",
              " 'costume horror',\n",
              " 'courtroom drama',\n",
              " 'creature film',\n",
              " 'crime',\n",
              " 'crime comedy',\n",
              " 'crime drama',\n",
              " 'crime fiction',\n",
              " 'crime thriller',\n",
              " 'cult',\n",
              " 'culture & society',\n",
              " 'dance',\n",
              " 'detective',\n",
              " 'detective fiction',\n",
              " 'disaster',\n",
              " 'docudrama',\n",
              " 'documentary',\n",
              " 'domestic comedy',\n",
              " 'doomsday film',\n",
              " 'drama',\n",
              " 'dystopia',\n",
              " 'ensemble film',\n",
              " 'epic',\n",
              " 'erotic drama',\n",
              " 'erotic thriller',\n",
              " 'erotica',\n",
              " 'escape film',\n",
              " 'existentialism',\n",
              " 'experimental film',\n",
              " 'fairy tale',\n",
              " 'family drama',\n",
              " 'family film',\n",
              " 'family-oriented adventure',\n",
              " 'fantasy',\n",
              " 'fantasy adventure',\n",
              " 'fantasy comedy',\n",
              " 'feminist film',\n",
              " 'filipino movies',\n",
              " 'film adaptation',\n",
              " 'film noir',\n",
              " 'film à clef',\n",
              " 'future noir',\n",
              " 'gangster film',\n",
              " 'gay',\n",
              " 'gay interest',\n",
              " 'gay pornography',\n",
              " 'gay themed',\n",
              " 'giallo',\n",
              " 'glamorized spy film',\n",
              " 'gothic film',\n",
              " 'gross out',\n",
              " 'gross-out film',\n",
              " 'haunted house film',\n",
              " 'heaven-can-wait fantasies',\n",
              " 'heavenly comedy',\n",
              " 'heist',\n",
              " 'hip hop movies',\n",
              " 'historical drama',\n",
              " 'historical epic',\n",
              " 'historical fiction',\n",
              " 'history',\n",
              " 'holiday film',\n",
              " 'horror',\n",
              " 'horror comedy',\n",
              " 'hybrid western',\n",
              " 'indie',\n",
              " 'inspirational drama',\n",
              " 'interpersonal relationships',\n",
              " 'japanese movies',\n",
              " 'jungle film',\n",
              " 'juvenile delinquency film',\n",
              " 'law & crime',\n",
              " 'lgbt',\n",
              " 'marriage drama',\n",
              " 'martial arts film',\n",
              " 'master criminal films',\n",
              " 'media satire',\n",
              " 'medical fiction',\n",
              " 'melodrama',\n",
              " 'mockumentary',\n",
              " 'monster',\n",
              " 'monster movie',\n",
              " 'music',\n",
              " 'musical',\n",
              " 'musical comedy',\n",
              " 'musical drama',\n",
              " 'mystery',\n",
              " 'mythological fantasy',\n",
              " 'natural horror films',\n",
              " 'neo-noir',\n",
              " 'new hollywood',\n",
              " 'parody',\n",
              " 'period piece',\n",
              " 'pinku eiga',\n",
              " 'political cinema',\n",
              " 'political drama',\n",
              " 'political satire',\n",
              " 'political thriller',\n",
              " 'pornographic movie',\n",
              " 'pre-code',\n",
              " 'prison',\n",
              " 'propaganda film',\n",
              " 'psychological thriller',\n",
              " 'punk rock',\n",
              " 'religious film',\n",
              " 'remake',\n",
              " 'revisionist western',\n",
              " 'road movie',\n",
              " 'roadshow theatrical release',\n",
              " 'rockumentary',\n",
              " 'romance film',\n",
              " 'romantic comedy',\n",
              " 'romantic drama',\n",
              " 'romantic fantasy',\n",
              " 'samurai cinema',\n",
              " 'satire',\n",
              " 'sci-fi adventure',\n",
              " 'sci-fi horror',\n",
              " 'science fiction',\n",
              " 'screwball comedy',\n",
              " 'sex comedy',\n",
              " 'sexploitation',\n",
              " 'short film',\n",
              " 'silent film',\n",
              " 'slapstick',\n",
              " 'slasher',\n",
              " 'slice of life story',\n",
              " 'social issues',\n",
              " 'social problem film',\n",
              " 'softcore porn',\n",
              " 'spaghetti western',\n",
              " 'splatter film',\n",
              " 'sports',\n",
              " 'spy',\n",
              " 'steampunk',\n",
              " 'stoner film',\n",
              " 'stop motion',\n",
              " 'superhero',\n",
              " 'superhero movie',\n",
              " 'supernatural',\n",
              " 'surrealism',\n",
              " 'suspense',\n",
              " 'swashbuckler films',\n",
              " 'sword and sorcery',\n",
              " 'sword and sorcery films',\n",
              " 'tamil cinema',\n",
              " 'teen',\n",
              " 'television movie',\n",
              " 'thriller',\n",
              " 'time travel',\n",
              " 'tollywood',\n",
              " 'tragedy',\n",
              " 'tragicomedy',\n",
              " 'war film',\n",
              " 'western',\n",
              " 'whodunit',\n",
              " 'workplace comedy',\n",
              " 'world cinema',\n",
              " 'wuxia',\n",
              " 'zombie film'}"
            ]
          },
          "metadata": {
            "tags": []
          },
          "execution_count": 31
        }
      ]
    },
    {
      "cell_type": "code",
      "metadata": {
        "id": "FLLjI6iQyssi",
        "trusted": true
      },
      "source": [
        "# Transformation dictionary to be used for transforming each Genre\n",
        "\n",
        "transform_dict = {\n",
        "    'action comedy': ['action', 'comedy'],\n",
        "    'action thrillers': ['action', 'thriller'],\n",
        "    'action/adventure': ['action', 'adventure'],\n",
        "    'addiction drama': ['drama'],\n",
        "    'adventure comedy': ['adventure', 'comedy'],\n",
        "    'animated cartoon': ['anime'],\n",
        "    'animated musical': ['anime', 'musical'],\n",
        "    'animation': ['anime'],\n",
        "    'anti-war film': ['anti-war'],\n",
        "    'auto racing': ['sports'],\n",
        "    'backstage musical': ['musical'],\n",
        "    'biographical film': ['biography'],\n",
        "    'biopic [feature]': ['biography'],\n",
        "    'crime comedy': ['crime', 'comedy'],\n",
        "    'crime drama': ['crime', 'drama'],\n",
        "    'crime fiction': ['crime', 'fiction'],\n",
        "    'crime thriller': ['crime', 'thriller'],\n",
        "    'costume adventure': ['costume', 'adventure'],\n",
        "    'costume drama': ['costume', 'drama'],\n",
        "    'costume horror': ['costume', 'horror'],\n",
        "    'childhood drama': ['childhood', 'drama'],\n",
        "    \"children's\": ['childhood'],\n",
        "    \"children's fantasy\": ['childhood', 'fantasy'],\n",
        "    \"children's/family\": ['childhood', 'family'],\n",
        "    'christian film': ['religious film'],\n",
        "    'combat films' :['action'],\n",
        "    'comedy film': ['comedy'],\n",
        "    'comedy of errors': ['comedy'],\n",
        "    'comedy of manners': ['comedy'],\n",
        "    'comedy thriller': ['comedy', 'thriller'],\n",
        "    'comedy western': ['comedy', 'western'],\n",
        "    'comedy-drama': ['comedy', 'drama'],\n",
        "    'computer animation': ['anime'],\n",
        "    'courtroom drama': ['drama'],\n",
        "    'cult': ['culture'],\n",
        "    'culture & society': ['culture', 'social'],\n",
        "    'detective fiction': ['detective', 'fiction'],\n",
        "    'docudrama': ['documentary', 'drama'],\n",
        "    'doomsday film': ['apocalyptic and post-apocalyptic fiction'],\n",
        "    'domestic comedy': ['comedy'],\n",
        "    'drame': ['drama'],\n",
        "     'erotic drama': ['adult', 'drama'],\n",
        "    'erotic thriller': ['adult', 'thriller'],\n",
        "    'erotica': ['adult'],\n",
        "    'family drama': ['family', 'drama'],\n",
        "    'family film': ['family'],\n",
        "    'family-oriented adventure': ['family', 'adventure'],\n",
        "    'fantasy adventure': ['fantasy', 'adventure'],\n",
        "    'fantasy comedy': ['fantasy', 'comedy'],\n",
        "    'future noir': ['film noir'],\n",
        "    'gay interest': ['gay'],\n",
        "    'gay pornography': ['gay', 'adult'],\n",
        "    'gay themed': ['gay'],\n",
        "    'giallo': ['horror', 'thriller'],\n",
        "    'gothic film': ['horror'],\n",
        "    'glamorized spy film': ['spy'],\n",
        "    'gross-out film': ['gross out'],\n",
        "    'heavenly comedy': ['comedy'],\n",
        "    'heaven-can-wait fantasies': ['fantasy'],\n",
        "    'historical drama': ['history', 'drama'],\n",
        "    'historical epic': ['history', 'epic'],\n",
        "    'historical fiction': ['history', 'fiction'],\n",
        "    'haunted house film': ['horror'],\n",
        "    'horror comedy': ['horror', 'comedy'],\n",
        "    'hybrid western': ['western'],\n",
        "    'inspirational drama': ['drama'],\n",
        "    'law & crime': ['law', 'crime'],\n",
        "     'lgbt': ['gay'],\n",
        "    'master criminal films': ['crime'],\n",
        "    'marriage drama': ['drama'],\n",
        "    'melodrama': ['drama'],\n",
        "    'medical fiction': ['fiction'],\n",
        "    'monster movie': ['monster'],\n",
        "    'mockumentary' : ['documentary', 'comedy'],\n",
        "    'music': ['musical'],\n",
        "    'musical comedy': ['musical', 'comedy'],\n",
        "    'musical drama': ['musical', 'drama'],\n",
        "    'mythological fantasy': ['fantasy'],\n",
        "    'natural horror films': ['horror'],\n",
        "    'parody': ['comedy'],\n",
        "    'pinku eiga': ['adult'],\n",
        "    'psychological thriller': ['thriller'],\n",
        "    'political cinema': ['political'],\n",
        "    'political drama': ['political', 'drama'],\n",
        "    'political satire': ['political'],\n",
        "    'political thriller': ['political', 'thriller'],\n",
        "    'pornographic movie': ['adult'],\n",
        "    'revisionist western': ['western'],\n",
        "    'rockumentary': ['musical', 'documentary'],\n",
        "    'romance film': ['romance'],\n",
        "    'romantic comedy': ['romance', 'comedy'],\n",
        "    'romantic drama': ['romance', 'drama'],\n",
        "    'romantic fantasy': ['romance', 'fantasy'],\n",
        "    'sexploitation': ['adult'],\n",
        "    'softcore porn': ['adult'],\n",
        "    'spaghetti western': ['western'],\n",
        "    'sci-fi adventure': ['sci-fi', 'adventure'],\n",
        "    'sci-fi horror': ['sci-fi', 'horror'],\n",
        "    'science fiction': ['sci-fi'],\n",
        "    'slasher': ['horror'],\n",
        "    'sex comedy': ['adult', 'comedy'],\n",
        "    'social issues': ['social'],\n",
        "    'social problem film': ['social'],\n",
        "    'splatter film': ['horror'],\n",
        "    'superhero movie': ['superhero'],\n",
        "    'sword and sorcery films': ['sword and sorcery'],\n",
        "     'tragicomedy': ['tragedy', 'comedy'],\n",
        "     'whodunit': ['detective'],\n",
        "    'workplace comedy': ['comedy'],\n",
        "     'wuxia': ['martial arts film'],\n",
        "\n",
        "\n",
        "     'erotic': ['adult'],\n",
        "     'pornography': ['adult']\n",
        "\n",
        "\n",
        "}"
      ],
      "execution_count": null,
      "outputs": []
    },
    {
      "cell_type": "code",
      "metadata": {
        "id": "UnVfAuuqHtJv",
        "trusted": true
      },
      "source": [
        "# List containing Genre which has to be removed. As they are not actually Genres\n",
        "\n",
        "to_remove_set = {\n",
        "    'americana',\n",
        "    'bollywood',\n",
        "    'chinese movies',\n",
        "    'christmas movie',\n",
        "    'experimental film',\n",
        "    'filipino movies',\n",
        "    'indie',\n",
        "    'japanese movies',\n",
        "    'new hollywood',\n",
        "    'remake',\n",
        "    'roadshow theatrical release',\n",
        "    'samurai cinema',\n",
        "    'short film',\n",
        "    'tollywood',\n",
        "    'tamil cinema',\n",
        "    'television movie',\n",
        "    'world cinema',\n",
        "}"
      ],
      "execution_count": null,
      "outputs": []
    },
    {
      "cell_type": "code",
      "metadata": {
        "id": "RAi4ys392Ddk",
        "trusted": true
      },
      "source": [
        "def transform_genres(item):\n",
        "  \"\"\" Transforms Genre according the transformation dict. Also removes\n",
        "      Genres which in to remove list.\n",
        "      Args:\n",
        "        item: list of Genres\n",
        "  \"\"\"\n",
        "  transformed_genre_item = []\n",
        "  for genre in item:\n",
        "    if genre in transform_dict:\n",
        "      transformed_genre_item.extend(transform_dict[genre])\n",
        "    elif genre not in to_remove_set :\n",
        "      transformed_genre_item.append(genre)\n",
        "\n",
        "  return list(set(transformed_genre_item))\n"
      ],
      "execution_count": null,
      "outputs": []
    },
    {
      "cell_type": "code",
      "metadata": {
        "id": "Z7hZfrlqyswe",
        "trusted": true
      },
      "source": [
        "# Applies transformation to Genres\n",
        "\n",
        "result['Genres'] = result['Genres'].apply(transform_genres)"
      ],
      "execution_count": null,
      "outputs": []
    },
    {
      "cell_type": "code",
      "metadata": {
        "id": "Knib-JVBysBY",
        "trusted": true,
        "colab": {
          "base_uri": "https://localhost:8080/",
          "height": 634
        },
        "outputId": "6e094384-e1fe-4a5c-de09-19fbcce57b9f"
      },
      "source": [
        "result.head(20)"
      ],
      "execution_count": null,
      "outputs": [
        {
          "output_type": "execute_result",
          "data": {
            "text/html": [
              "<div>\n",
              "<style scoped>\n",
              "    .dataframe tbody tr th:only-of-type {\n",
              "        vertical-align: middle;\n",
              "    }\n",
              "\n",
              "    .dataframe tbody tr th {\n",
              "        vertical-align: top;\n",
              "    }\n",
              "\n",
              "    .dataframe thead th {\n",
              "        text-align: right;\n",
              "    }\n",
              "</style>\n",
              "<table border=\"1\" class=\"dataframe\">\n",
              "  <thead>\n",
              "    <tr style=\"text-align: right;\">\n",
              "      <th></th>\n",
              "      <th>W_ID</th>\n",
              "      <th>Plot</th>\n",
              "      <th>Genres</th>\n",
              "    </tr>\n",
              "  </thead>\n",
              "  <tbody>\n",
              "    <tr>\n",
              "      <th>0</th>\n",
              "      <td>23890098</td>\n",
              "      <td>shlykov a hard working taxi driver and lyosha ...</td>\n",
              "      <td>[drama]</td>\n",
              "    </tr>\n",
              "    <tr>\n",
              "      <th>1</th>\n",
              "      <td>31186339</td>\n",
              "      <td>the nation of panem consists of a wealthy capi...</td>\n",
              "      <td>[sci-fi, adventure, action, drama]</td>\n",
              "    </tr>\n",
              "    <tr>\n",
              "      <th>2</th>\n",
              "      <td>20663735</td>\n",
              "      <td>poovalli induchoodan is sentenced for six year...</td>\n",
              "      <td>[action, musical, drama]</td>\n",
              "    </tr>\n",
              "    <tr>\n",
              "      <th>3</th>\n",
              "      <td>2231378</td>\n",
              "      <td>the lemon drop kid a new york city swindler is...</td>\n",
              "      <td>[comedy, screwball comedy]</td>\n",
              "    </tr>\n",
              "    <tr>\n",
              "      <th>4</th>\n",
              "      <td>595909</td>\n",
              "      <td>seventh day adventist church pastor michael ch...</td>\n",
              "      <td>[fiction, drama, documentary, crime]</td>\n",
              "    </tr>\n",
              "    <tr>\n",
              "      <th>5</th>\n",
              "      <td>5272176</td>\n",
              "      <td>the president is on his way to give a speech w...</td>\n",
              "      <td>[adventure, action, drama, thriller]</td>\n",
              "    </tr>\n",
              "    <tr>\n",
              "      <th>6</th>\n",
              "      <td>1952976</td>\n",
              "      <td>plot the film opens in as a young girl dahlia ...</td>\n",
              "      <td>[drama, horror, thriller]</td>\n",
              "    </tr>\n",
              "    <tr>\n",
              "      <th>7</th>\n",
              "      <td>24225279</td>\n",
              "      <td>the story begins with hannah a young jewish te...</td>\n",
              "      <td>[teen, drama]</td>\n",
              "    </tr>\n",
              "    <tr>\n",
              "      <th>8</th>\n",
              "      <td>2462689</td>\n",
              "      <td>infuriated at being told to write one final co...</td>\n",
              "      <td>[media satire, drama, black-and-white, romance...</td>\n",
              "    </tr>\n",
              "    <tr>\n",
              "      <th>9</th>\n",
              "      <td>20532852</td>\n",
              "      <td>a line of people drool at the window of the sh...</td>\n",
              "      <td>[family, anime]</td>\n",
              "    </tr>\n",
              "    <tr>\n",
              "      <th>10</th>\n",
              "      <td>15401493</td>\n",
              "      <td>lola attempts to gain her father s trust fund ...</td>\n",
              "      <td>[comedy]</td>\n",
              "    </tr>\n",
              "    <tr>\n",
              "      <th>11</th>\n",
              "      <td>18188932</td>\n",
              "      <td>milan and goran are two criminals who smuggle ...</td>\n",
              "      <td>[fiction, comedy, drama, crime]</td>\n",
              "    </tr>\n",
              "    <tr>\n",
              "      <th>12</th>\n",
              "      <td>2940516</td>\n",
              "      <td>bumbling pirate crewman kills his captain afte...</td>\n",
              "      <td>[comedy]</td>\n",
              "    </tr>\n",
              "    <tr>\n",
              "      <th>13</th>\n",
              "      <td>1335380</td>\n",
              "      <td>the film is based on the events that happened ...</td>\n",
              "      <td>[political, adventure, action, film adaptation...</td>\n",
              "    </tr>\n",
              "    <tr>\n",
              "      <th>14</th>\n",
              "      <td>1480747</td>\n",
              "      <td>plot following the sudden death of kid s fathe...</td>\n",
              "      <td>[comedy, culture, coming of age, teen]</td>\n",
              "    </tr>\n",
              "    <tr>\n",
              "      <th>15</th>\n",
              "      <td>24448645</td>\n",
              "      <td>despite lucy s reservations she agrees to her ...</td>\n",
              "      <td>[horror]</td>\n",
              "    </tr>\n",
              "    <tr>\n",
              "      <th>16</th>\n",
              "      <td>15072401</td>\n",
              "      <td>alan colby heir to a vast fortune reappears af...</td>\n",
              "      <td>[fiction, thriller, comedy, mystery, horror, c...</td>\n",
              "    </tr>\n",
              "    <tr>\n",
              "      <th>17</th>\n",
              "      <td>4018288</td>\n",
              "      <td>debbie s favorite band is dream street and her...</td>\n",
              "      <td>[drama]</td>\n",
              "    </tr>\n",
              "    <tr>\n",
              "      <th>18</th>\n",
              "      <td>4596602</td>\n",
              "      <td>ashes to ashes is set in london england the fi...</td>\n",
              "      <td>[fiction, thriller, action, martial arts film,...</td>\n",
              "    </tr>\n",
              "    <tr>\n",
              "      <th>19</th>\n",
              "      <td>15224586</td>\n",
              "      <td>the film follows the experience of vietnamese ...</td>\n",
              "      <td>[drama, period piece]</td>\n",
              "    </tr>\n",
              "  </tbody>\n",
              "</table>\n",
              "</div>"
            ],
            "text/plain": [
              "        W_ID  ...                                             Genres\n",
              "0   23890098  ...                                            [drama]\n",
              "1   31186339  ...                 [sci-fi, adventure, action, drama]\n",
              "2   20663735  ...                           [action, musical, drama]\n",
              "3    2231378  ...                         [comedy, screwball comedy]\n",
              "4     595909  ...               [fiction, drama, documentary, crime]\n",
              "5    5272176  ...               [adventure, action, drama, thriller]\n",
              "6    1952976  ...                          [drama, horror, thriller]\n",
              "7   24225279  ...                                      [teen, drama]\n",
              "8    2462689  ...  [media satire, drama, black-and-white, romance...\n",
              "9   20532852  ...                                    [family, anime]\n",
              "10  15401493  ...                                           [comedy]\n",
              "11  18188932  ...                    [fiction, comedy, drama, crime]\n",
              "12   2940516  ...                                           [comedy]\n",
              "13   1335380  ...  [political, adventure, action, film adaptation...\n",
              "14   1480747  ...             [comedy, culture, coming of age, teen]\n",
              "15  24448645  ...                                           [horror]\n",
              "16  15072401  ...  [fiction, thriller, comedy, mystery, horror, c...\n",
              "17   4018288  ...                                            [drama]\n",
              "18   4596602  ...  [fiction, thriller, action, martial arts film,...\n",
              "19  15224586  ...                              [drama, period piece]\n",
              "\n",
              "[20 rows x 3 columns]"
            ]
          },
          "metadata": {
            "tags": []
          },
          "execution_count": 36
        }
      ]
    },
    {
      "cell_type": "code",
      "metadata": {
        "id": "W12nHkVVwswS",
        "trusted": true
      },
      "source": [
        "# Counting the no of Genres left\n",
        "\n",
        "new_genlist = []\n",
        "for genre in result['Genres']:\n",
        "  new_genlist.extend(genre)"
      ],
      "execution_count": null,
      "outputs": []
    },
    {
      "cell_type": "code",
      "metadata": {
        "id": "L1LkCoHowtIe",
        "trusted": true,
        "colab": {
          "base_uri": "https://localhost:8080/",
          "height": 35
        },
        "outputId": "27f3a250-42d5-47ed-c0c0-fb017797f20f"
      },
      "source": [
        "len(set(new_genlist))"
      ],
      "execution_count": null,
      "outputs": [
        {
          "output_type": "execute_result",
          "data": {
            "text/plain": [
              "100"
            ]
          },
          "metadata": {
            "tags": []
          },
          "execution_count": 38
        }
      ]
    },
    {
      "cell_type": "code",
      "metadata": {
        "id": "7IZ1wh2DwtYI",
        "trusted": true,
        "colab": {
          "base_uri": "https://localhost:8080/",
          "height": 1000
        },
        "outputId": "bfef512d-a8b9-40c7-9c74-496f0b54d3e7"
      },
      "source": [
        "set(new_genlist)"
      ],
      "execution_count": null,
      "outputs": [
        {
          "output_type": "execute_result",
          "data": {
            "text/plain": [
              "{'absurdism',\n",
              " 'action',\n",
              " 'adult',\n",
              " 'adventure',\n",
              " 'airplanes and airports',\n",
              " 'alien film',\n",
              " 'animal picture',\n",
              " 'anime',\n",
              " 'anti-war',\n",
              " 'apocalyptic and post-apocalyptic fiction',\n",
              " 'art film',\n",
              " 'avant-garde',\n",
              " 'b-movie',\n",
              " 'biker film',\n",
              " 'biography',\n",
              " 'black comedy',\n",
              " 'black-and-white',\n",
              " 'blaxploitation',\n",
              " 'boxing',\n",
              " 'british empire film',\n",
              " 'buddy film',\n",
              " 'caper story',\n",
              " 'chase movie',\n",
              " 'childhood',\n",
              " 'comedy',\n",
              " 'coming of age',\n",
              " 'costume',\n",
              " 'creature film',\n",
              " 'crime',\n",
              " 'culture',\n",
              " 'dance',\n",
              " 'detective',\n",
              " 'disaster',\n",
              " 'documentary',\n",
              " 'drama',\n",
              " 'dystopia',\n",
              " 'ensemble film',\n",
              " 'epic',\n",
              " 'escape film',\n",
              " 'existentialism',\n",
              " 'fairy tale',\n",
              " 'family',\n",
              " 'fantasy',\n",
              " 'feminist film',\n",
              " 'fiction',\n",
              " 'film adaptation',\n",
              " 'film noir',\n",
              " 'film à clef',\n",
              " 'gangster film',\n",
              " 'gay',\n",
              " 'gross out',\n",
              " 'heist',\n",
              " 'hip hop movies',\n",
              " 'history',\n",
              " 'holiday film',\n",
              " 'horror',\n",
              " 'interpersonal relationships',\n",
              " 'jungle film',\n",
              " 'juvenile delinquency film',\n",
              " 'law',\n",
              " 'martial arts film',\n",
              " 'media satire',\n",
              " 'monster',\n",
              " 'musical',\n",
              " 'mystery',\n",
              " 'neo-noir',\n",
              " 'period piece',\n",
              " 'political',\n",
              " 'pre-code',\n",
              " 'prison',\n",
              " 'propaganda film',\n",
              " 'punk rock',\n",
              " 'religious film',\n",
              " 'road movie',\n",
              " 'romance',\n",
              " 'satire',\n",
              " 'sci-fi',\n",
              " 'screwball comedy',\n",
              " 'silent film',\n",
              " 'slapstick',\n",
              " 'slice of life story',\n",
              " 'social',\n",
              " 'sports',\n",
              " 'spy',\n",
              " 'steampunk',\n",
              " 'stoner film',\n",
              " 'stop motion',\n",
              " 'superhero',\n",
              " 'supernatural',\n",
              " 'surrealism',\n",
              " 'suspense',\n",
              " 'swashbuckler films',\n",
              " 'sword and sorcery',\n",
              " 'teen',\n",
              " 'thriller',\n",
              " 'time travel',\n",
              " 'tragedy',\n",
              " 'war film',\n",
              " 'western',\n",
              " 'zombie film'}"
            ]
          },
          "metadata": {
            "tags": []
          },
          "execution_count": 39
        }
      ]
    },
    {
      "cell_type": "code",
      "metadata": {
        "id": "73sI-TTOkIAL",
        "trusted": true,
        "colab": {
          "base_uri": "https://localhost:8080/",
          "height": 399
        },
        "outputId": "6afe06bc-f3b1-4024-8500-6508d40b724e"
      },
      "source": [
        "# Printing all those instances which has genre list empty and has to be removed\n",
        "\n",
        "result[result['Genres'].apply(lambda x: len(x) == 0 )]"
      ],
      "execution_count": null,
      "outputs": [
        {
          "output_type": "execute_result",
          "data": {
            "text/html": [
              "<div>\n",
              "<style scoped>\n",
              "    .dataframe tbody tr th:only-of-type {\n",
              "        vertical-align: middle;\n",
              "    }\n",
              "\n",
              "    .dataframe tbody tr th {\n",
              "        vertical-align: top;\n",
              "    }\n",
              "\n",
              "    .dataframe thead th {\n",
              "        text-align: right;\n",
              "    }\n",
              "</style>\n",
              "<table border=\"1\" class=\"dataframe\">\n",
              "  <thead>\n",
              "    <tr style=\"text-align: right;\">\n",
              "      <th></th>\n",
              "      <th>W_ID</th>\n",
              "      <th>Plot</th>\n",
              "      <th>Genres</th>\n",
              "    </tr>\n",
              "  </thead>\n",
              "  <tbody>\n",
              "    <tr>\n",
              "      <th>26</th>\n",
              "      <td>10644072</td>\n",
              "      <td>a villager new to the big city bhagwaan turns ...</td>\n",
              "      <td>[]</td>\n",
              "    </tr>\n",
              "    <tr>\n",
              "      <th>39</th>\n",
              "      <td>28238240</td>\n",
              "      <td>mickey and the scorpions decide to go on a big...</td>\n",
              "      <td>[]</td>\n",
              "    </tr>\n",
              "    <tr>\n",
              "      <th>43</th>\n",
              "      <td>28207941</td>\n",
              "      <td>bimbo and koko are sign painter s they have be...</td>\n",
              "      <td>[]</td>\n",
              "    </tr>\n",
              "    <tr>\n",
              "      <th>58</th>\n",
              "      <td>18392317</td>\n",
              "      <td>betty is startled awake in her bed on a stormy...</td>\n",
              "      <td>[]</td>\n",
              "    </tr>\n",
              "    <tr>\n",
              "      <th>138</th>\n",
              "      <td>25807103</td>\n",
              "      <td>tone jane is a secretary who doesn t know that...</td>\n",
              "      <td>[]</td>\n",
              "    </tr>\n",
              "    <tr>\n",
              "      <th>...</th>\n",
              "      <td>...</td>\n",
              "      <td>...</td>\n",
              "      <td>...</td>\n",
              "    </tr>\n",
              "    <tr>\n",
              "      <th>42119</th>\n",
              "      <td>18253063</td>\n",
              "      <td>speedy gonzales owns the hottest nightclub in ...</td>\n",
              "      <td>[]</td>\n",
              "    </tr>\n",
              "    <tr>\n",
              "      <th>42130</th>\n",
              "      <td>30350202</td>\n",
              "      <td>after a nuclear apocalypse the whole landscape...</td>\n",
              "      <td>[]</td>\n",
              "    </tr>\n",
              "    <tr>\n",
              "      <th>42146</th>\n",
              "      <td>27376208</td>\n",
              "      <td>the life of the s m theme artist and author se...</td>\n",
              "      <td>[]</td>\n",
              "    </tr>\n",
              "    <tr>\n",
              "      <th>42163</th>\n",
              "      <td>4108329</td>\n",
              "      <td>what appears to be a moose emerging from a lak...</td>\n",
              "      <td>[]</td>\n",
              "    </tr>\n",
              "    <tr>\n",
              "      <th>42179</th>\n",
              "      <td>27858729</td>\n",
              "      <td>count vertigo hires merlyn to assassinate prin...</td>\n",
              "      <td>[]</td>\n",
              "    </tr>\n",
              "  </tbody>\n",
              "</table>\n",
              "<p>1480 rows × 3 columns</p>\n",
              "</div>"
            ],
            "text/plain": [
              "           W_ID                                               Plot Genres\n",
              "26     10644072  a villager new to the big city bhagwaan turns ...     []\n",
              "39     28238240  mickey and the scorpions decide to go on a big...     []\n",
              "43     28207941  bimbo and koko are sign painter s they have be...     []\n",
              "58     18392317  betty is startled awake in her bed on a stormy...     []\n",
              "138    25807103  tone jane is a secretary who doesn t know that...     []\n",
              "...         ...                                                ...    ...\n",
              "42119  18253063  speedy gonzales owns the hottest nightclub in ...     []\n",
              "42130  30350202  after a nuclear apocalypse the whole landscape...     []\n",
              "42146  27376208  the life of the s m theme artist and author se...     []\n",
              "42163   4108329  what appears to be a moose emerging from a lak...     []\n",
              "42179  27858729  count vertigo hires merlyn to assassinate prin...     []\n",
              "\n",
              "[1480 rows x 3 columns]"
            ]
          },
          "metadata": {
            "tags": []
          },
          "execution_count": 40
        }
      ]
    },
    {
      "cell_type": "code",
      "metadata": {
        "id": "um0kzohOkYeI",
        "trusted": true
      },
      "source": [
        "# Removing all those instances which has empty genre list\n",
        "\n",
        "result = result[result['Genres'].apply(lambda x: len(x) != 0 )]"
      ],
      "execution_count": null,
      "outputs": []
    },
    {
      "cell_type": "code",
      "metadata": {
        "id": "nANyeYSskueC",
        "trusted": true,
        "colab": {
          "base_uri": "https://localhost:8080/",
          "height": 47
        },
        "outputId": "0cb5447b-6dad-4797-e43b-8c5c2c65176a"
      },
      "source": [
        "# checking if there is any instance with empty genre list\n",
        "\n",
        "result[result['Genres'].apply(lambda x: len(x) == 0 )]"
      ],
      "execution_count": null,
      "outputs": [
        {
          "output_type": "execute_result",
          "data": {
            "text/html": [
              "<div>\n",
              "<style scoped>\n",
              "    .dataframe tbody tr th:only-of-type {\n",
              "        vertical-align: middle;\n",
              "    }\n",
              "\n",
              "    .dataframe tbody tr th {\n",
              "        vertical-align: top;\n",
              "    }\n",
              "\n",
              "    .dataframe thead th {\n",
              "        text-align: right;\n",
              "    }\n",
              "</style>\n",
              "<table border=\"1\" class=\"dataframe\">\n",
              "  <thead>\n",
              "    <tr style=\"text-align: right;\">\n",
              "      <th></th>\n",
              "      <th>W_ID</th>\n",
              "      <th>Plot</th>\n",
              "      <th>Genres</th>\n",
              "    </tr>\n",
              "  </thead>\n",
              "  <tbody>\n",
              "  </tbody>\n",
              "</table>\n",
              "</div>"
            ],
            "text/plain": [
              "Empty DataFrame\n",
              "Columns: [W_ID, Plot, Genres]\n",
              "Index: []"
            ]
          },
          "metadata": {
            "tags": []
          },
          "execution_count": 42
        }
      ]
    },
    {
      "cell_type": "code",
      "metadata": {
        "id": "T1ombeE84ASR",
        "trusted": true
      },
      "source": [
        "# Counting the no of Genres\n",
        "\n",
        "new_genlist = []\n",
        "for genre in result['Genres']:\n",
        "  new_genlist.extend(genre)"
      ],
      "execution_count": null,
      "outputs": []
    },
    {
      "cell_type": "code",
      "metadata": {
        "id": "T0J0Rexs4AXx",
        "trusted": true,
        "colab": {
          "base_uri": "https://localhost:8080/",
          "height": 35
        },
        "outputId": "3789b9ff-73e6-4b32-d4c7-faa6d3fd06c4"
      },
      "source": [
        "len(set(new_genlist))"
      ],
      "execution_count": null,
      "outputs": [
        {
          "output_type": "execute_result",
          "data": {
            "text/plain": [
              "100"
            ]
          },
          "metadata": {
            "tags": []
          },
          "execution_count": 44
        }
      ]
    },
    {
      "cell_type": "code",
      "metadata": {
        "id": "vSSPjpJs4AJ0",
        "trusted": true
      },
      "source": [
        "# Counting the no of words in each movie summary\n",
        "\n",
        "result['No words'] = result['Plot'].apply(lambda x : len(x.split()))"
      ],
      "execution_count": null,
      "outputs": []
    },
    {
      "cell_type": "code",
      "metadata": {
        "id": "CloCVFeHH_on",
        "trusted": true,
        "colab": {
          "base_uri": "https://localhost:8080/",
          "height": 194
        },
        "outputId": "8357a2b9-11d6-459f-cd0c-0fa627e9a4cb"
      },
      "source": [
        "result.head()"
      ],
      "execution_count": null,
      "outputs": [
        {
          "output_type": "execute_result",
          "data": {
            "text/html": [
              "<div>\n",
              "<style scoped>\n",
              "    .dataframe tbody tr th:only-of-type {\n",
              "        vertical-align: middle;\n",
              "    }\n",
              "\n",
              "    .dataframe tbody tr th {\n",
              "        vertical-align: top;\n",
              "    }\n",
              "\n",
              "    .dataframe thead th {\n",
              "        text-align: right;\n",
              "    }\n",
              "</style>\n",
              "<table border=\"1\" class=\"dataframe\">\n",
              "  <thead>\n",
              "    <tr style=\"text-align: right;\">\n",
              "      <th></th>\n",
              "      <th>W_ID</th>\n",
              "      <th>Plot</th>\n",
              "      <th>Genres</th>\n",
              "      <th>No words</th>\n",
              "    </tr>\n",
              "  </thead>\n",
              "  <tbody>\n",
              "    <tr>\n",
              "      <th>0</th>\n",
              "      <td>23890098</td>\n",
              "      <td>shlykov a hard working taxi driver and lyosha ...</td>\n",
              "      <td>[drama]</td>\n",
              "      <td>28</td>\n",
              "    </tr>\n",
              "    <tr>\n",
              "      <th>1</th>\n",
              "      <td>31186339</td>\n",
              "      <td>the nation of panem consists of a wealthy capi...</td>\n",
              "      <td>[sci-fi, adventure, action, drama]</td>\n",
              "      <td>779</td>\n",
              "    </tr>\n",
              "    <tr>\n",
              "      <th>2</th>\n",
              "      <td>20663735</td>\n",
              "      <td>poovalli induchoodan is sentenced for six year...</td>\n",
              "      <td>[action, musical, drama]</td>\n",
              "      <td>493</td>\n",
              "    </tr>\n",
              "    <tr>\n",
              "      <th>3</th>\n",
              "      <td>2231378</td>\n",
              "      <td>the lemon drop kid a new york city swindler is...</td>\n",
              "      <td>[comedy, screwball comedy]</td>\n",
              "      <td>862</td>\n",
              "    </tr>\n",
              "    <tr>\n",
              "      <th>4</th>\n",
              "      <td>595909</td>\n",
              "      <td>seventh day adventist church pastor michael ch...</td>\n",
              "      <td>[fiction, drama, documentary, crime]</td>\n",
              "      <td>406</td>\n",
              "    </tr>\n",
              "  </tbody>\n",
              "</table>\n",
              "</div>"
            ],
            "text/plain": [
              "       W_ID  ... No words\n",
              "0  23890098  ...       28\n",
              "1  31186339  ...      779\n",
              "2  20663735  ...      493\n",
              "3   2231378  ...      862\n",
              "4    595909  ...      406\n",
              "\n",
              "[5 rows x 4 columns]"
            ]
          },
          "metadata": {
            "tags": []
          },
          "execution_count": 46
        }
      ]
    },
    {
      "cell_type": "code",
      "metadata": {
        "id": "m0TI1ypRID_W",
        "trusted": true,
        "colab": {
          "base_uri": "https://localhost:8080/",
          "height": 88
        },
        "outputId": "18f457fa-af40-45f2-c786-8d50877b7c3e"
      },
      "source": [
        "# Getting states of no of words in each summary\n",
        "\n",
        "result['No words'].agg(['min', 'max', 'mean'])"
      ],
      "execution_count": null,
      "outputs": [
        {
          "output_type": "execute_result",
          "data": {
            "text/plain": [
              "min       13.000000\n",
              "max     5015.000000\n",
              "mean     318.640777\n",
              "Name: No words, dtype: float64"
            ]
          },
          "metadata": {
            "tags": []
          },
          "execution_count": 47
        }
      ]
    },
    {
      "cell_type": "code",
      "metadata": {
        "id": "D0yBVnSsIHX3",
        "trusted": true
      },
      "source": [
        "# Removing instances with no fo words less than a thresholf ie. 15\n",
        "\n",
        "result = result[result['No words'].apply(lambda x: x > 15)]"
      ],
      "execution_count": null,
      "outputs": []
    },
    {
      "cell_type": "code",
      "metadata": {
        "id": "GLKQGHNclHi3",
        "trusted": true,
        "colab": {
          "base_uri": "https://localhost:8080/",
          "height": 212
        },
        "outputId": "7b45b0dd-f2a8-4c04-e442-c26a05d1b80e"
      },
      "source": [
        "result.info()"
      ],
      "execution_count": null,
      "outputs": [
        {
          "output_type": "stream",
          "text": [
            "<class 'pandas.core.frame.DataFrame'>\n",
            "Int64Index: 40712 entries, 0 to 42203\n",
            "Data columns (total 4 columns):\n",
            " #   Column    Non-Null Count  Dtype \n",
            "---  ------    --------------  ----- \n",
            " 0   W_ID      40712 non-null  int64 \n",
            " 1   Plot      40712 non-null  object\n",
            " 2   Genres    40712 non-null  object\n",
            " 3   No words  40712 non-null  int64 \n",
            "dtypes: int64(2), object(2)\n",
            "memory usage: 1.6+ MB\n"
          ],
          "name": "stdout"
        }
      ]
    },
    {
      "cell_type": "code",
      "metadata": {
        "id": "JFjNRVhV0qnA",
        "trusted": true
      },
      "source": [
        "# Extracting summary and genres for model training\n",
        "\n",
        "x = result['Plot'].values\n",
        "y = result['Genres'].values"
      ],
      "execution_count": null,
      "outputs": []
    },
    {
      "cell_type": "code",
      "metadata": {
        "id": "ANN7IUnkH6Ut",
        "trusted": true,
        "colab": {
          "base_uri": "https://localhost:8080/",
          "height": 108
        },
        "outputId": "dcbba3b6-ef0a-4ef5-a2fa-6750a0223f60"
      },
      "source": [
        "print(x[:4])"
      ],
      "execution_count": null,
      "outputs": [
        {
          "output_type": "stream",
          "text": [
            "['shlykov a hard working taxi driver and lyosha a saxophonist develop a bizarre love hate relationship and despite their prejudices realize they aren t so different after all'\n",
            " 'the nation of panem consists of a wealthy capitol and twelve poorer districts as punishment for a past rebellion each district must provide a boy and girl between the ages of and selected by lottery for the annual hunger games the tributes must fight to the death in an arena the sole survivor is rewarded with fame and wealth in her first reaping year old primrose everdeen is chosen from district her older sister katniss volunteers to take her place peeta mellark a baker s son who once gave katniss bread when she was starving is the other district tribute katniss and peeta are taken to the capitol accompanied by their frequently drunk mentor past victor haymitch abernathy he warns them about the career tributes who train intensively at special academies and almost always win during a tv interview with caesar flickerman peeta unexpectedly reveals his love for katniss she is outraged believing it to be a ploy to gain audience support as sponsors may provide in games gifts of food medicine and tools however she discovers peeta meant what he said the televised games begin with half of the tributes killed in the first few minutes katniss barely survives ignoring haymitch s advice to run away from the melee over the tempting supplies and weapons strewn in front of a structure called the cornucopia peeta forms an uneasy alliance with the four careers they later find katniss and corner her up a tree rue hiding in a nearby tree draws her attention to a poisonous tracker jacker nest hanging from a branch katniss drops it on her sleeping besiegers they all scatter except for glimmer who is killed by the insects hallucinating due to tracker jacker venom katniss is warned to run away by peeta rue cares for katniss for a couple of days until she recovers meanwhile the alliance has gathered all the supplies into a pile katniss has rue draw them off then destroys the stockpile by setting off the mines planted around it furious cato kills the boy assigned to guard it as katniss runs from the scene she hears rue calling her name she finds rue trapped and releases her marvel a tribute from district throws a spear at katniss but she dodges the spear causing it to stab rue in the stomach instead katniss shoots him dead with an arrow she then comforts the dying rue with a song afterward she gathers and arranges flowers around rue s body when this is televised it sparks a riot in rue s district president snow summons seneca crane the gamemaker to express his displeasure at the way the games are turning out since katniss and peeta have been presented to the public as star crossed lovers haymitch is able to convince crane to make a rule change to avoid inciting further riots it is announced that tributes from the same district can win as a pair upon hearing this katniss searches for peeta and finds him with an infected sword wound in the leg she portrays herself as deeply in love with him and gains a sponsor s gift of soup an announcer proclaims a feast where the thing each survivor needs most will be provided peeta begs her not to risk getting him medicine katniss promises not to go but after he falls asleep she heads to the feast clove ambushes her and pins her down as clove gloats thresh the other district tribute kills clove after overhearing her tormenting katniss about killing rue he spares katniss just this time for rue the medicine works keeping peeta mobile foxface the girl from district dies from eating nightlock berries she stole from peeta neither knew they are highly poisonous crane changes the time of day in the arena to late at night and unleashes a pack of hound like creatures to speed things up they kill thresh and force katniss and peeta to flee to the roof of the cornucopia where they encounter cato after a battle katniss wounds cato with an arrow and peeta hurls him to the creatures below katniss shoots cato to spare him a prolonged death with peeta and katniss apparently victorious the rule change allowing two winners is suddenly revoked peeta tells katniss to shoot him instead she gives him half of the nightlock however before they can commit suicide they are hastily proclaimed the victors of the th hunger games haymitch warns katniss that she has made powerful enemies after her display of defiance she and peeta return to district while crane is locked in a room with a bowl of nightlock berries and president snow considers the situation'\n",
            " 'poovalli induchoodan is sentenced for six years prison life for murdering his classmate induchoodan the only son of justice maranchery karunakara menon was framed in the case by manapally madhavan nambiar and his crony dysp sankaranarayanan to take revenge on idealist judge menon who had earlier given jail sentence to manapally in a corruption case induchoodan who had achieved top rank in indian civil service loses the post and manapally sudheeran saikumar enters the list of civil service trainees we learn in flashback that it was ramakrishnan the son of moopil nair who had actually killed his classmate six years passes by and manapally madhavan nambiar now a former state minister is dead and induchoodan who is all rage at the gross injustice meted out to him thus destroying his promising life is released from prison induchoodan thwarts manapally pavithran from performing the funeral rituals of nambiar at bharathapuzha many confrontations between induchoodan and manapally s henchmen follow induchoodan also falls in love with anuradha aishwarya the strong willed and independent minded daughter of mooppil nair justice menon and his wife returns back to kerala to stay with induchoodan there is an appearance of a girl named indulekha kanaka who claims to be the daughter of justice menon menon flatly refuses the claim and banishes her forced by circumstances and at the instigation and help of manapally pavithran she reluctantly come out open with the claim induchoodan at first thrashes the protesters but upon knowing the truth from chandrabhanu his uncle he accepts the task of her protection in the capacity as elder brother induchoodan decides to marry off indulekha to his good friend jayakrishnan induchoodan has a confrontation with his father and prods him to accept mistake and acknowledge the parentage of indulekha menon ultimately regrets and goes on to confess to his daughter the very next day when induchoodan returns to poovally indulekha is found dead and menon is accused of murdering her the whole act was planned by pavithran who after killing indulekha forces raman nair to testify against menon in court in court nandagopal maarar a close friend of induchoodan and a famous supreme court lawyer appears for menon and manages to lay bare the murder plot and hidden intentions of other party menon is judged innocent of the crime by court after confronting pavithran and promising just retribution to the crime of killing indulekha induchoodan returns to his father who now shows remorse for all his actions including not believing in the innocence of his son but while speaking to induchoodan menon suffers a heart stroke and passes away at menon s funeral manapally pavithran arrives to poke fun at induchoodan and he also tries to carry out the postponed last rituals of his own father induchoodan interrupts the ritual and avenges for the death of his sister and father by severely injuring pavithran on his way back to peaceful life induchoodan accepts anuradha as his life partner'\n",
            " 'the lemon drop kid a new york city swindler is illegally touting horses at a florida racetrack after several successful hustles the kid comes across a beautiful but gullible woman intending to bet a lot of money the kid convinces her to switch her bet employing a prefabricated con unfortunately for the kid the woman belongs to notorious gangster moose moran as does the money the kid s choice finishes dead last and a furious moran demands the kid provide him with by christmas eve or the kid won t make it to new year s the kid decides to return to new york to try to come up with the money he first tries his on again off again girlfriend brainy baxter however when talk of long term commitment arises the kid quickly makes an escape he next visits local crime boss oxford charley with whom he has had past dealings this falls through as charley is in serious tax trouble and does not particularly care for the kid anyway as he leaves charley s establishment and is about to give up hope the kid notices a cornerside santa claus and his kettle thinking quickly the kid fashions himself a santa suit and begins collecting donations this fails as he is recognized by a passing policeman who remembers his previous underhanded activity well the kid lands in court where he is convicted of collecting for a charity without a license and sentenced to ten days in jail however while in court the kid learns where his scheme went wrong after a short stay brainy arrives to bail him out he then sets about restarting his santa operation this time with legitimate backing to this end he needs a charity to represent and a city license the kid receives key inspiration when he remembers that nellie thursday a kindly neighborhood resident has been denied entry to a retirement home because of her jailed husband s criminal past as a safecracker organizing other small time new york swindlers and brainy who is both surprised and charmed at the kid s apparent goodwill the kid converts an abandoned casino into the nellie thursday home for old dolls a small group of elderly women and makeshift amenities complete the project the kid is able to receive the all important city license now free to collect the kid and his compatriots dress as santa claus and position themselves throughout manhattan the others are unaware that the kid plans to keep the money for himself to pay off moran the scheme is a huge success netting in only a few days an overjoyed brainy decides to leave her job as a dancer and look after the home full time until after christmas coincidentally her employer is none other than oxford charley whom brainy cheerfully informs of the effort seeing a potential gold mine charley decides to muscle in on the operation reasoning that the nellie thursday home is wherever nellie thursday is charley and his crew kidnap the home s inhabitants and move them to charley s mansion in nyack the kid learns of this when he returns to the home after a late night to find the home deserted and money gone clued in by oversized oxford footprints in the snow the kid and his friends pay charley a visit here charley reveals the true nature of the kid s scheme through a phone conversation with moose moran the kid s accomplices are angry and move to confront him but the kid manages to slip away however brainy tracks him down outside and voices her disgust at his actions after a few days of stewing in self pity the kid is surprised to meet nellie who has escaped charley s compound he decides to recover the money sneaking into charley s home in the guise of an elderly woman he finds that charley and his crew are again moving the women this time to a more secure location using the heightened activity to his advantage the kid enters charley s office and confronts him after a brief struggle the kid overpowers charley and makes off with the money narrowly avoiding the thugs charley has sent after him the ensuing chaos allows brainy and the others to escape later that night the kid returns to the original nellie thursday home to meet with moose moran the deal appears to be in jeopardy as moran arrives with charley charley demands that the kid reimburse him which would leave too little for moran however the kid turns the tables by hitting a switch revealing hidden casino tables all are occupied mainly by the escaped old dolls the kid and his still loyal friends hold off the gangsters as the police initiate a raid moran and charley are arrested while the judge who sentenced the kid earlier warns that he will be keeping an eye on him the kid assures him that will not be necessary and his attention will lie on the home which is going to become a reality the night s main event begins as nellie s husband henry free on parole joyously reunites with his wife']\n"
          ],
          "name": "stdout"
        }
      ]
    },
    {
      "cell_type": "code",
      "metadata": {
        "id": "nlxXy49r2zkK",
        "trusted": true,
        "colab": {
          "base_uri": "https://localhost:8080/",
          "height": 52
        },
        "outputId": "0beda9f7-2288-4854-9c84-cd8919055f22"
      },
      "source": [
        "print(y[:4])"
      ],
      "execution_count": null,
      "outputs": [
        {
          "output_type": "stream",
          "text": [
            "[list(['drama']) list(['sci-fi', 'adventure', 'action', 'drama'])\n",
            " list(['action', 'musical', 'drama']) list(['comedy', 'screwball comedy'])]\n"
          ],
          "name": "stdout"
        }
      ]
    },
    {
      "cell_type": "code",
      "metadata": {
        "id": "MJN14Pum3p-X",
        "trusted": true
      },
      "source": [
        "# Transforming Genres into multilabel binarizer\n",
        "\n",
        "multi_ban = MultiLabelBinarizer()\n",
        "multi_ban.fit(y)\n",
        "\n",
        "# transform target variable\n",
        "y = multi_ban.transform(y)"
      ],
      "execution_count": null,
      "outputs": []
    },
    {
      "cell_type": "code",
      "metadata": {
        "id": "_HJSZ-BbZZf-",
        "trusted": true,
        "colab": {
          "base_uri": "https://localhost:8080/",
          "height": 35
        },
        "outputId": "a7ff8d58-c52a-4123-c814-a62ffe648c93"
      },
      "source": [
        "multi_ban.inverse_transform(y[:1])"
      ],
      "execution_count": null,
      "outputs": [
        {
          "output_type": "execute_result",
          "data": {
            "text/plain": [
              "[('drama',)]"
            ]
          },
          "metadata": {
            "tags": []
          },
          "execution_count": 54
        }
      ]
    },
    {
      "cell_type": "code",
      "metadata": {
        "id": "yWXkXRO14O7-",
        "trusted": true
      },
      "source": [
        "num_classes = len(multi_ban.classes_)"
      ],
      "execution_count": null,
      "outputs": []
    },
    {
      "cell_type": "code",
      "metadata": {
        "id": "zyxWJ-AfUVOc",
        "trusted": true
      },
      "source": [
        "# set(multi_ban.classes_)"
      ],
      "execution_count": null,
      "outputs": []
    },
    {
      "cell_type": "code",
      "metadata": {
        "id": "yzcy3xpsWUdF",
        "trusted": true
      },
      "source": [
        "# Splitting dataset into train and test\n",
        "\n",
        "x_train, x_test, y_train, y_test = train_test_split(x, y, test_size = 0.2, random_state = 24)"
      ],
      "execution_count": null,
      "outputs": []
    },
    {
      "cell_type": "code",
      "metadata": {
        "id": "406YEw1K0hP9",
        "trusted": true,
        "colab": {
          "base_uri": "https://localhost:8080/",
          "height": 35
        },
        "outputId": "482a50fe-68a5-452b-a2c9-b76681607c90"
      },
      "source": [
        "print(x_train.shape, y_test.shape)"
      ],
      "execution_count": null,
      "outputs": [
        {
          "output_type": "stream",
          "text": [
            "(32569,) (8143, 100)\n"
          ],
          "name": "stdout"
        }
      ]
    },
    {
      "cell_type": "code",
      "metadata": {
        "id": "C-xTiQw4k4Qn",
        "trusted": true
      },
      "source": [],
      "execution_count": null,
      "outputs": []
    },
    {
      "cell_type": "markdown",
      "metadata": {
        "id": "2XRNupGKVbdy"
      },
      "source": [
        "Importing Bert Tokenizer"
      ]
    },
    {
      "cell_type": "code",
      "metadata": {
        "id": "SVycxj0gAWlj",
        "trusted": true,
        "colab": {
          "base_uri": "https://localhost:8080/",
          "height": 67,
          "referenced_widgets": [
            "b7350bbb49c947e6b53153098d9d6f0c",
            "cfc78dd5ede34e158ede54bfb1dd0582",
            "9b23c3fe2b7b482aa66b97d67cdbf5b1",
            "969f79821a70402f8993e2072bb39c91",
            "3baeaba7f88a4d41ae0a9ff1e7f442ea",
            "f14d4dfd75d54a368a5538a6ad6b75e8",
            "99afd94a90c14007b5a52210ae5c8567",
            "5a7250e7d0044be097ecf5e3695c70d7"
          ]
        },
        "outputId": "e5e39d44-0824-49d9-ddaa-0b4893072ad2"
      },
      "source": [
        "bert_tokenizer = transformers.BertTokenizer.from_pretrained(\"bert-base-uncased\")"
      ],
      "execution_count": null,
      "outputs": [
        {
          "output_type": "display_data",
          "data": {
            "application/vnd.jupyter.widget-view+json": {
              "model_id": "b7350bbb49c947e6b53153098d9d6f0c",
              "version_minor": 0,
              "version_major": 2
            },
            "text/plain": [
              "HBox(children=(FloatProgress(value=0.0, description='Downloading', max=231508.0, style=ProgressStyle(descripti…"
            ]
          },
          "metadata": {
            "tags": []
          }
        },
        {
          "output_type": "stream",
          "text": [
            "\n"
          ],
          "name": "stdout"
        }
      ]
    },
    {
      "cell_type": "code",
      "metadata": {
        "id": "CF1TbYVtV08Q",
        "trusted": true
      },
      "source": [
        "def encode_data(data, max_length):\n",
        "  \"\"\" Encode the data according to required bert tokenization\n",
        "      Args:\n",
        "        data: text to be encoded\n",
        "        max_length: The max length of text to be considered\n",
        "  \"\"\"\n",
        "  encoded = bert_tokenizer.encode_plus(data,\n",
        "                                  add_special_tokens=True,\n",
        "                                  max_length=max_length,\n",
        "                                  padding='max_length',\n",
        "                                  truncation=True,\n",
        "                                        pad_to_max_length=True,\n",
        "                                  return_attention_mask=True)\n",
        "\n",
        "  return encoded"
      ],
      "execution_count": null,
      "outputs": []
    },
    {
      "cell_type": "code",
      "metadata": {
        "id": "-GMjMB-DV4TB",
        "trusted": true
      },
      "source": [
        "def encode_examples(x, y, max_length):\n",
        "  \"\"\" Encodes data one by one using the encode data function and return a tuple\n",
        "      containg the required tokens, mask and token type for bert input.\n",
        "      Args:\n",
        "        x: List containg movie summaries\n",
        "        y: Genre info\n",
        "        max_length: The max length of summary to be considered for tokenization\n",
        "  \"\"\"\n",
        "  input_ids_list = []\n",
        "  token_type_ids_list = []\n",
        "  attention_mask_list = []\n",
        "  label_list = []\n",
        "\n",
        "  for review, label in zip(x, y):\n",
        "\n",
        "    bert_input = encode_data(review, max_length)\n",
        "\n",
        "    input_ids_list.append(bert_input['input_ids'])\n",
        "    token_type_ids_list.append(bert_input['token_type_ids'])\n",
        "    attention_mask_list.append(bert_input['attention_mask'])\n",
        "    label_list.append(label)\n",
        "  return (np.array(input_ids_list, dtype=np.float32), np.array(attention_mask_list, dtype=np.float32), np.array(token_type_ids_list, dtype=np.float32), np.array(label_list, dtype=np.float32))"
      ],
      "execution_count": null,
      "outputs": []
    },
    {
      "cell_type": "code",
      "metadata": {
        "id": "2AoMvUhcV629",
        "trusted": true
      },
      "source": [
        "lr = 2e-5\n",
        "epcohs = 1\n",
        "max_length = 512\n",
        "batch_size = 8"
      ],
      "execution_count": null,
      "outputs": []
    },
    {
      "cell_type": "code",
      "metadata": {
        "id": "wq8gzfMuV9T4",
        "trusted": true
      },
      "source": [
        "# Preparing data for bert input\n",
        "\n",
        "train_inp, train_mask, train_token_type, train_label  = encode_examples(x_train, y_train, max_length)\n",
        "\n",
        "test_inp, test_mask, test_token_type, test_label = encode_examples(x_test, y_test, max_length)"
      ],
      "execution_count": null,
      "outputs": []
    },
    {
      "cell_type": "code",
      "metadata": {
        "id": "QhOiuJpXc7Xn",
        "trusted": true,
        "colab": {
          "base_uri": "https://localhost:8080/",
          "height": 35
        },
        "outputId": "2e99f1ec-4be9-4a0f-c12e-5c29f494a2c3"
      },
      "source": [
        "train_inp.shape"
      ],
      "execution_count": null,
      "outputs": [
        {
          "output_type": "execute_result",
          "data": {
            "text/plain": [
              "(32569, 512)"
            ]
          },
          "metadata": {
            "tags": []
          },
          "execution_count": 64
        }
      ]
    },
    {
      "cell_type": "markdown",
      "metadata": {
        "id": "jhh2gupZY2DE"
      },
      "source": [
        "Importing the pre-trained bert model"
      ]
    },
    {
      "cell_type": "code",
      "metadata": {
        "id": "-NA5HkqrV_1V",
        "trusted": true,
        "colab": {
          "base_uri": "https://localhost:8080/",
          "height": 225,
          "referenced_widgets": [
            "7c54e5e6799b42c99e38171251ac84b7",
            "1c2fd2b989ba4d71baea139faa4c0c27",
            "a1b1ca0ee7a741aa92c8930415694803",
            "e1aab3f537e547ee8bb9b3ac9ffed730",
            "7c19682e1fa24cc7a65c4cdfb69a2f70",
            "d34ade2d15274829b976ca04db93a11a",
            "667dd2c09cd74158a3fe9fc5cbff927c",
            "6490b60e476f4d85bffed8ef5ebf4bb4",
            "fd7c3765236548248c4c9e4c45899606",
            "7d0bae89a7c34309b3fe25737e94dd06",
            "7fa6b2d9f5724804ac548eac99a5563e",
            "544005b1f46e4ebfa08cc037176d56b0",
            "9c0d44ec19084705b51d235d92465469",
            "63bd4953450243fc947029af00f06ea9",
            "5570a6c6f35f4f228b0408afb9cc7a29",
            "aca2ec2dc56f4a5db509bddf05cd29aa"
          ]
        },
        "outputId": "0e6e5de6-5d82-444f-d238-7e8c3e6172d9"
      },
      "source": [
        "\n",
        "from transformers import TFBertModel\n",
        "\n",
        "# model initialization\n",
        "bert_model = TFBertModel.from_pretrained('bert-base-uncased')"
      ],
      "execution_count": null,
      "outputs": [
        {
          "output_type": "display_data",
          "data": {
            "application/vnd.jupyter.widget-view+json": {
              "model_id": "7c54e5e6799b42c99e38171251ac84b7",
              "version_minor": 0,
              "version_major": 2
            },
            "text/plain": [
              "HBox(children=(FloatProgress(value=0.0, description='Downloading', max=433.0, style=ProgressStyle(description_…"
            ]
          },
          "metadata": {
            "tags": []
          }
        },
        {
          "output_type": "stream",
          "text": [
            "\n"
          ],
          "name": "stdout"
        },
        {
          "output_type": "display_data",
          "data": {
            "application/vnd.jupyter.widget-view+json": {
              "model_id": "fd7c3765236548248c4c9e4c45899606",
              "version_minor": 0,
              "version_major": 2
            },
            "text/plain": [
              "HBox(children=(FloatProgress(value=0.0, description='Downloading', max=536063208.0, style=ProgressStyle(descri…"
            ]
          },
          "metadata": {
            "tags": []
          }
        },
        {
          "output_type": "stream",
          "text": [
            "\n"
          ],
          "name": "stdout"
        },
        {
          "output_type": "stream",
          "text": [
            "Some weights of the model checkpoint at bert-base-uncased were not used when initializing TFBertModel: ['nsp___cls', 'mlm___cls']\n",
            "- This IS expected if you are initializing TFBertModel from the checkpoint of a model trained on another task or with another architecture (e.g. initializing a BertForSequenceClassification model from a BertForPretraining model).\n",
            "- This IS NOT expected if you are initializing TFBertModel from the checkpoint of a model that you expect to be exactly identical (initializing a BertForSequenceClassification model from a BertForSequenceClassification model).\n",
            "All the weights of TFBertModel were initialized from the model checkpoint at bert-base-uncased.\n",
            "If your task is similar to the task the model of the checkpoint was trained on, you can already use TFBertModel for predictions without further training.\n"
          ],
          "name": "stderr"
        }
      ]
    },
    {
      "cell_type": "code",
      "metadata": {
        "id": "H7tBUUhTIPXS",
        "trusted": true
      },
      "source": [],
      "execution_count": null,
      "outputs": []
    },
    {
      "cell_type": "code",
      "metadata": {
        "id": "v4XrPGXWXUyp",
        "trusted": true
      },
      "source": [
        "def create_model(bert_model):\n",
        "  \"\"\" Adds a classification head of the bare bert model.\n",
        "      Args:\n",
        "        bert_model: pretrained bert model without classification head\n",
        "  \"\"\"\n",
        "  input_ids = tf.keras.layers.Input(shape=(max_length,), dtype=tf.int32)\n",
        "  token_type_ids = tf.keras.layers.Input(shape=(max_length,), dtype=tf.int32)\n",
        "  attention_mask = tf.keras.layers.Input(shape=(max_length,), dtype=tf.int32)\n",
        "\n",
        "  input_dict = {\n",
        "      'input_ids': input_ids,\n",
        "      'attention_mask': attention_mask,\n",
        "      'token_type_ids': token_type_ids\n",
        "  }\n",
        "\n",
        "  embedding = bert_model(input_dict)[0]\n",
        "  avg = tf.keras.layers.GlobalAveragePooling1D()(embedding)\n",
        "  drop = tf.keras.layers.Dropout(0.15)(avg)\n",
        "  dense = tf.keras.layers.Dense(num_classes, activation='sigmoid')(drop)\n",
        "\n",
        "  model = tf.keras.Model(\n",
        "        inputs=[input_ids, attention_mask, token_type_ids],\n",
        "        outputs=dense,\n",
        "    )\n",
        "  return model\n"
      ],
      "execution_count": null,
      "outputs": []
    },
    {
      "cell_type": "code",
      "metadata": {
        "id": "KvM_P_FTv5pS",
        "trusted": true,
        "colab": {
          "base_uri": "https://localhost:8080/",
          "height": 444
        },
        "outputId": "a3aa1d0e-009b-4b87-c761-208952947673"
      },
      "source": [
        "model = create_model(bert_model)\n",
        "model.summary()"
      ],
      "execution_count": null,
      "outputs": [
        {
          "output_type": "stream",
          "text": [
            "Model: \"functional_1\"\n",
            "__________________________________________________________________________________________________\n",
            "Layer (type)                    Output Shape         Param #     Connected to                     \n",
            "==================================================================================================\n",
            "input_3 (InputLayer)            [(None, 512)]        0                                            \n",
            "__________________________________________________________________________________________________\n",
            "input_1 (InputLayer)            [(None, 512)]        0                                            \n",
            "__________________________________________________________________________________________________\n",
            "input_2 (InputLayer)            [(None, 512)]        0                                            \n",
            "__________________________________________________________________________________________________\n",
            "tf_bert_model (TFBertModel)     ((None, 512, 768), ( 109482240   input_3[0][0]                    \n",
            "                                                                 input_1[0][0]                    \n",
            "                                                                 input_2[0][0]                    \n",
            "__________________________________________________________________________________________________\n",
            "global_average_pooling1d (Globa (None, 768)          0           tf_bert_model[0][0]              \n",
            "__________________________________________________________________________________________________\n",
            "dropout_37 (Dropout)            (None, 768)          0           global_average_pooling1d[0][0]   \n",
            "__________________________________________________________________________________________________\n",
            "dense (Dense)                   (None, 100)          76900       dropout_37[0][0]                 \n",
            "==================================================================================================\n",
            "Total params: 109,559,140\n",
            "Trainable params: 109,559,140\n",
            "Non-trainable params: 0\n",
            "__________________________________________________________________________________________________\n"
          ],
          "name": "stdout"
        }
      ]
    },
    {
      "cell_type": "code",
      "metadata": {
        "id": "MiDJU9fjWFLt",
        "trusted": true
      },
      "source": [
        "# optimizer Adam recommended\n",
        "optimizer = tf.keras.optimizers.Adam(learning_rate=lr, epsilon=1e-08)\n",
        "model.compile(optimizer=optimizer, loss='binary_crossentropy', metrics=tf.keras.metrics.Precision())"
      ],
      "execution_count": null,
      "outputs": []
    },
    {
      "cell_type": "code",
      "metadata": {
        "id": "mOfsz-_Q03MK",
        "trusted": true,
        "colab": {
          "base_uri": "https://localhost:8080/",
          "height": 35
        },
        "outputId": "c66c7f9c-7663-4827-d704-06cff16f1753"
      },
      "source": [
        "train_inp.shape"
      ],
      "execution_count": null,
      "outputs": [
        {
          "output_type": "execute_result",
          "data": {
            "text/plain": [
              "(32569, 512)"
            ]
          },
          "metadata": {
            "tags": []
          },
          "execution_count": 69
        }
      ]
    },
    {
      "cell_type": "code",
      "metadata": {
        "id": "Tj8F6H7ww0pr",
        "trusted": true,
        "colab": {
          "base_uri": "https://localhost:8080/",
          "height": 159
        },
        "outputId": "89585ccb-6669-4f7b-be0d-b19a31f7cdf3"
      },
      "source": [
        "bert_history = model.fit([train_inp, train_mask, train_token_type], train_label, epochs=2, batch_size=batch_size, validation_data=(([test_inp, test_mask, test_token_type]), test_label))"
      ],
      "execution_count": null,
      "outputs": [
        {
          "output_type": "stream",
          "text": [
            "Epoch 1/2\n",
            "WARNING:tensorflow:Gradients do not exist for variables ['tf_bert_model/bert/pooler/dense/kernel:0', 'tf_bert_model/bert/pooler/dense/bias:0'] when minimizing the loss.\n",
            "WARNING:tensorflow:Gradients do not exist for variables ['tf_bert_model/bert/pooler/dense/kernel:0', 'tf_bert_model/bert/pooler/dense/bias:0'] when minimizing the loss.\n",
            "WARNING:tensorflow:Gradients do not exist for variables ['tf_bert_model/bert/pooler/dense/kernel:0', 'tf_bert_model/bert/pooler/dense/bias:0'] when minimizing the loss.\n",
            "WARNING:tensorflow:Gradients do not exist for variables ['tf_bert_model/bert/pooler/dense/kernel:0', 'tf_bert_model/bert/pooler/dense/bias:0'] when minimizing the loss.\n",
            "4072/4072 [==============================] - 2472s 607ms/step - loss: 0.0825 - precision: 0.6261 - val_loss: 0.0669 - val_precision: 0.6594\n",
            "Epoch 2/2\n",
            "4072/4072 [==============================] - 2469s 606ms/step - loss: 0.0617 - precision: 0.7113 - val_loss: 0.0635 - val_precision: 0.6811\n"
          ],
          "name": "stdout"
        }
      ]
    },
    {
      "cell_type": "code",
      "metadata": {
        "id": "gcLWhIXn5pT3",
        "colab": {
          "base_uri": "https://localhost:8080/",
          "height": 35
        },
        "outputId": "cdd5839b-da5c-4428-d4e7-1aa364829b38"
      },
      "source": [
        "bert_history = model.fit([train_inp, train_mask, train_token_type], train_label, epochs=1, batch_size=batch_size, validation_data=(([test_inp, test_mask, test_token_type]), test_label))"
      ],
      "execution_count": null,
      "outputs": [
        {
          "output_type": "stream",
          "text": [
            "4072/4072 [==============================] - 2469s 606ms/step - loss: 0.0535 - precision: 0.7520 - val_loss: 0.0645 - val_precision: 0.6614\n"
          ],
          "name": "stdout"
        }
      ]
    },
    {
      "cell_type": "code",
      "metadata": {
        "id": "RR1Sii7J4pjl",
        "trusted": true
      },
      "source": [
        "res = model.predict([test_inp[:25], test_mask[:25], test_token_type[:25]])"
      ],
      "execution_count": null,
      "outputs": []
    },
    {
      "cell_type": "code",
      "metadata": {
        "id": "ByGJgTJnP2JN",
        "trusted": true,
        "colab": {
          "base_uri": "https://localhost:8080/",
          "height": 35
        },
        "outputId": "a407b110-a6b4-4174-f277-0d7b21e83b0c"
      },
      "source": [
        "res.shape"
      ],
      "execution_count": null,
      "outputs": [
        {
          "output_type": "execute_result",
          "data": {
            "text/plain": [
              "(25, 100)"
            ]
          },
          "metadata": {
            "tags": []
          },
          "execution_count": 89
        }
      ]
    },
    {
      "cell_type": "code",
      "metadata": {
        "id": "DvEdQdzx5yKS",
        "trusted": true,
        "colab": {
          "base_uri": "https://localhost:8080/",
          "height": 1000
        },
        "outputId": "f769bd32-b8f3-4ccb-d05a-015556398055"
      },
      "source": [
        "for a, b in zip(y_test[:15], res):\n",
        "  print(\"Next instance\")\n",
        "  print()\n",
        "  for i,j in zip(a,b):\n",
        "    if i == 1:\n",
        "      print(i, j)"
      ],
      "execution_count": null,
      "outputs": [
        {
          "output_type": "stream",
          "text": [
            "Next instance\n",
            "\n",
            "1 0.44887653\n",
            "1 0.12331969\n",
            "1 0.19497326\n",
            "1 0.16118614\n",
            "1 0.04585748\n",
            "1 0.115512446\n",
            "1 0.017563302\n",
            "1 0.62020403\n",
            "Next instance\n",
            "\n",
            "1 0.5203328\n",
            "1 0.7815401\n",
            "1 0.21836558\n",
            "1 0.29585883\n",
            "1 0.93964696\n",
            "1 0.08230562\n",
            "Next instance\n",
            "\n",
            "1 0.0037609856\n",
            "1 0.6747603\n",
            "Next instance\n",
            "\n",
            "1 0.75570077\n",
            "1 0.12806684\n",
            "Next instance\n",
            "\n",
            "1 0.01132794\n",
            "1 0.0531769\n",
            "1 0.03700808\n",
            "1 0.90355587\n",
            "1 0.010387511\n",
            "1 0.011466391\n",
            "1 0.18289644\n",
            "Next instance\n",
            "\n",
            "1 0.61062497\n",
            "Next instance\n",
            "\n",
            "1 0.39662808\n",
            "1 0.22936088\n",
            "1 0.044702135\n",
            "1 0.9156513\n",
            "Next instance\n",
            "\n",
            "1 0.940624\n",
            "1 0.16569397\n",
            "1 0.021983238\n",
            "Next instance\n",
            "\n",
            "1 0.27199912\n",
            "Next instance\n",
            "\n",
            "1 0.714854\n",
            "1 0.26899344\n",
            "Next instance\n",
            "\n",
            "1 0.9584871\n",
            "1 0.49431136\n",
            "Next instance\n",
            "\n",
            "1 0.035866823\n",
            "1 0.67000496\n",
            "1 0.013366072\n",
            "1 0.002022956\n",
            "1 0.022406\n",
            "Next instance\n",
            "\n",
            "1 0.62423664\n",
            "1 0.7193858\n",
            "1 0.9332376\n",
            "1 0.8130348\n",
            "Next instance\n",
            "\n",
            "1 0.59064627\n",
            "1 0.466505\n",
            "Next instance\n",
            "\n",
            "1 0.21255527\n",
            "1 0.32002512\n",
            "1 0.052486\n"
          ],
          "name": "stdout"
        }
      ]
    },
    {
      "cell_type": "code",
      "metadata": {
        "id": "SqZlHO14Up2K",
        "trusted": true
      },
      "source": [
        "a = np.argsort(res)[:, -5:]"
      ],
      "execution_count": null,
      "outputs": []
    },
    {
      "cell_type": "code",
      "metadata": {
        "id": "DWnhIQ4DudES",
        "trusted": true
      },
      "source": [
        "# Encoded classes of multi banarizer\n",
        "\n",
        "inverse_list = multi_ban.classes_"
      ],
      "execution_count": null,
      "outputs": []
    },
    {
      "cell_type": "code",
      "metadata": {
        "id": "Dn7V24edvMVU",
        "trusted": true,
        "colab": {
          "base_uri": "https://localhost:8080/",
          "height": 461
        },
        "outputId": "436504eb-f286-43b0-85c5-07013cd328ab"
      },
      "source": [
        "inverse_list[a]"
      ],
      "execution_count": null,
      "outputs": [
        {
          "output_type": "execute_result",
          "data": {
            "text/plain": [
              "array([['fiction', 'crime', 'drama', 'action', 'thriller'],\n",
              "       ['costume', 'drama', 'action', 'adventure', 'fantasy'],\n",
              "       ['adventure', 'fantasy', 'romance', 'drama', 'comedy'],\n",
              "       ['thriller', 'fantasy', 'comedy', 'romance', 'drama'],\n",
              "       ['culture', 'comedy', 'thriller', 'b-movie', 'horror'],\n",
              "       ['adventure', 'fantasy', 'comedy', 'anime', 'family'],\n",
              "       ['black-and-white', 'adventure', 'comedy', 'action', 'western'],\n",
              "       ['action', 'romance', 'musical', 'anime', 'comedy'],\n",
              "       ['comedy', 'action', 'drama', 'horror', 'thriller'],\n",
              "       ['romance', 'slapstick', 'musical', 'black-and-white', 'comedy'],\n",
              "       ['family', 'romance', 'musical', 'black-and-white', 'comedy'],\n",
              "       ['family', 'coming of age', 'romance', 'drama', 'comedy'],\n",
              "       ['adventure', 'childhood', 'fantasy', 'anime', 'family'],\n",
              "       ['mystery', 'drama', 'comedy', 'thriller', 'horror'],\n",
              "       ['musical', 'black-and-white', 'comedy', 'drama', 'romance'],\n",
              "       ['family', 'anime', 'fantasy', 'comedy', 'sci-fi'],\n",
              "       ['adult', 'romance', 'comedy', 'drama', 'gay'],\n",
              "       ['comedy', 'biography', 'political', 'drama', 'documentary'],\n",
              "       ['family', 'black-and-white', 'comedy', 'romance', 'drama'],\n",
              "       ['comedy', 'thriller', 'romance', 'adult', 'drama'],\n",
              "       ['action', 'culture', 'b-movie', 'thriller', 'horror'],\n",
              "       ['action', 'comedy', 'black-and-white', 'war film', 'drama'],\n",
              "       ['fantasy', 'adventure', 'childhood', 'anime', 'family'],\n",
              "       ['action', 'musical', 'romance', 'drama', 'comedy'],\n",
              "       ['anime', 'fantasy', 'drama', 'romance', 'comedy']], dtype=object)"
            ]
          },
          "metadata": {
            "tags": []
          },
          "execution_count": 95
        }
      ]
    },
    {
      "cell_type": "code",
      "metadata": {
        "id": "sLYK9KQHwPWH",
        "trusted": true,
        "colab": {
          "base_uri": "https://localhost:8080/",
          "height": 1000
        },
        "outputId": "66b37506-4da3-4fe1-9567-2c776aeb6224"
      },
      "source": [
        "# Printing the actual output along with predicted by model\n",
        "\n",
        "for actual, pred in zip(y_test[:25], a):\n",
        "  print(\"Actual\")\n",
        "  print(multi_ban.inverse_transform(np.array([actual])))\n",
        "  print(\"Predictions\")\n",
        "  pred = np.flip(pred)\n",
        "  print(pred)\n",
        "  print(inverse_list[pred])\n",
        "  print()\n",
        "  print(\"*******************\")\n",
        "  print()"
      ],
      "execution_count": null,
      "outputs": [
        {
          "output_type": "stream",
          "text": [
            "Actual\n",
            "[('action', 'adventure', 'crime', 'fiction', 'political', 'spy', 'suspense', 'thriller')]\n",
            "Predictions\n",
            "[94  1 34 28 44]\n",
            "['thriller' 'action' 'drama' 'crime' 'fiction']\n",
            "\n",
            "*******************\n",
            "\n",
            "Actual\n",
            "[('action', 'adventure', 'costume', 'drama', 'fantasy', 'sword and sorcery')]\n",
            "Predictions\n",
            "[42  3  1 34 26]\n",
            "['fantasy' 'adventure' 'action' 'drama' 'costume']\n",
            "\n",
            "*******************\n",
            "\n",
            "Actual\n",
            "[('documentary', 'drama')]\n",
            "Predictions\n",
            "[24 34 74 42  3]\n",
            "['comedy' 'drama' 'romance' 'fantasy' 'adventure']\n",
            "\n",
            "*******************\n",
            "\n",
            "Actual\n",
            "[('drama', 'fantasy')]\n",
            "Predictions\n",
            "[34 74 24 42 94]\n",
            "['drama' 'romance' 'comedy' 'fantasy' 'thriller']\n",
            "\n",
            "*******************\n",
            "\n",
            "Actual\n",
            "[('adventure', 'crime', 'fiction', 'horror', 'supernatural', 'teen', 'thriller')]\n",
            "Predictions\n",
            "[55 12 94 24 29]\n",
            "['horror' 'b-movie' 'thriller' 'comedy' 'culture']\n",
            "\n",
            "*******************\n",
            "\n",
            "Actual\n",
            "[('fantasy',)]\n",
            "Predictions\n",
            "[41  7 24 42  3]\n",
            "['family' 'anime' 'comedy' 'fantasy' 'adventure']\n",
            "\n",
            "*******************\n",
            "\n",
            "Actual\n",
            "[('action', 'adventure', 'drama', 'western')]\n",
            "Predictions\n",
            "[98  1 24  3 16]\n",
            "['western' 'action' 'comedy' 'adventure' 'black-and-white']\n",
            "\n",
            "*******************\n",
            "\n",
            "Actual\n",
            "[('comedy', 'musical', 'teen')]\n",
            "Predictions\n",
            "[24  7 63 74  1]\n",
            "['comedy' 'anime' 'musical' 'romance' 'action']\n",
            "\n",
            "*******************\n",
            "\n",
            "Actual\n",
            "[('drama',)]\n",
            "Predictions\n",
            "[94 55 34  1 24]\n",
            "['thriller' 'horror' 'drama' 'action' 'comedy']\n",
            "\n",
            "*******************\n",
            "\n",
            "Actual\n",
            "[('black-and-white', 'musical')]\n",
            "Predictions\n",
            "[24 16 63 79 74]\n",
            "['comedy' 'black-and-white' 'musical' 'slapstick' 'romance']\n",
            "\n",
            "*******************\n",
            "\n",
            "Actual\n",
            "[('comedy', 'musical')]\n",
            "Predictions\n",
            "[24 16 63 74 41]\n",
            "['comedy' 'black-and-white' 'musical' 'romance' 'family']\n",
            "\n",
            "*******************\n",
            "\n",
            "Actual\n",
            "[('adult', 'drama', 'film adaptation', 'suspense', 'thriller')]\n",
            "Predictions\n",
            "[24 34 74 25 41]\n",
            "['comedy' 'drama' 'romance' 'coming of age' 'family']\n",
            "\n",
            "*******************\n",
            "\n",
            "Actual\n",
            "[('adventure', 'childhood', 'family', 'fantasy')]\n",
            "Predictions\n",
            "[41  7 42 23  3]\n",
            "['family' 'anime' 'fantasy' 'childhood' 'adventure']\n",
            "\n",
            "*******************\n",
            "\n",
            "Actual\n",
            "[('horror', 'thriller')]\n",
            "Predictions\n",
            "[55 94 24 34 64]\n",
            "['horror' 'thriller' 'comedy' 'drama' 'mystery']\n",
            "\n",
            "*******************\n",
            "\n",
            "Actual\n",
            "[('black-and-white', 'comedy', 'silent film')]\n",
            "Predictions\n",
            "[74 34 24 16 63]\n",
            "['romance' 'drama' 'comedy' 'black-and-white' 'musical']\n",
            "\n",
            "*******************\n",
            "\n",
            "Actual\n",
            "[('drama', 'fantasy', 'musical', 'romance', 'sci-fi')]\n",
            "Predictions\n",
            "[76 24 42  7 41]\n",
            "['sci-fi' 'comedy' 'fantasy' 'anime' 'family']\n",
            "\n",
            "*******************\n",
            "\n",
            "Actual\n",
            "[('drama', 'gay')]\n",
            "Predictions\n",
            "[49 34 24 74  2]\n",
            "['gay' 'drama' 'comedy' 'romance' 'adult']\n",
            "\n",
            "*******************\n",
            "\n",
            "Actual\n",
            "[('documentary', 'political')]\n",
            "Predictions\n",
            "[33 34 67 14 24]\n",
            "['documentary' 'drama' 'political' 'biography' 'comedy']\n",
            "\n",
            "*******************\n",
            "\n",
            "Actual\n",
            "[('comedy', 'musical')]\n",
            "Predictions\n",
            "[34 74 24 16 41]\n",
            "['drama' 'romance' 'comedy' 'black-and-white' 'family']\n",
            "\n",
            "*******************\n",
            "\n",
            "Actual\n",
            "[('adult',)]\n",
            "Predictions\n",
            "[34  2 74 94 24]\n",
            "['drama' 'adult' 'romance' 'thriller' 'comedy']\n",
            "\n",
            "*******************\n",
            "\n",
            "Actual\n",
            "[('action', 'adventure', 'creature film', 'horror', 'thriller')]\n",
            "Predictions\n",
            "[55 94 12 29  1]\n",
            "['horror' 'thriller' 'b-movie' 'culture' 'action']\n",
            "\n",
            "*******************\n",
            "\n",
            "Actual\n",
            "[('drama',)]\n",
            "Predictions\n",
            "[34 97 16 24  1]\n",
            "['drama' 'war film' 'black-and-white' 'comedy' 'action']\n",
            "\n",
            "*******************\n",
            "\n",
            "Actual\n",
            "[('childhood', 'drama', 'family')]\n",
            "Predictions\n",
            "[41  7 23  3 42]\n",
            "['family' 'anime' 'childhood' 'adventure' 'fantasy']\n",
            "\n",
            "*******************\n",
            "\n",
            "Actual\n",
            "[('comedy', 'drama', 'romance')]\n",
            "Predictions\n",
            "[24 34 74 63  1]\n",
            "['comedy' 'drama' 'romance' 'musical' 'action']\n",
            "\n",
            "*******************\n",
            "\n",
            "Actual\n",
            "[('romance',)]\n",
            "Predictions\n",
            "[24 74 34 42  7]\n",
            "['comedy' 'romance' 'drama' 'fantasy' 'anime']\n",
            "\n",
            "*******************\n",
            "\n"
          ],
          "name": "stdout"
        }
      ]
    },
    {
      "cell_type": "code",
      "metadata": {
        "id": "ODmGVZuFCAmO",
        "colab": {
          "base_uri": "https://localhost:8080/",
          "height": 35
        },
        "outputId": "c1b70c2e-f10c-4525-e8e2-04fdb2f88643"
      },
      "source": [
        "# Mounting drive\n",
        "\n",
        "from google.colab import drive\n",
        "drive.mount('/content/drive')"
      ],
      "execution_count": null,
      "outputs": [
        {
          "output_type": "stream",
          "text": [
            "Drive already mounted at /content/drive; to attempt to forcibly remount, call drive.mount(\"/content/drive\", force_remount=True).\n"
          ],
          "name": "stdout"
        }
      ]
    },
    {
      "cell_type": "code",
      "metadata": {
        "id": "8qHpJR0rY_rk",
        "trusted": false
      },
      "source": [
        "# Saving weights on drive\n",
        "\n",
        "model.save_weights('drive/My Drive/bert_wieghts.h5')"
      ],
      "execution_count": null,
      "outputs": []
    },
    {
      "cell_type": "code",
      "metadata": {
        "id": "vV2QOdO2ZNfB",
        "trusted": false
      },
      "source": [
        "# Checking if loading working properly by creating a new model\n",
        "new_model = create_model(bert_model)"
      ],
      "execution_count": null,
      "outputs": []
    },
    {
      "cell_type": "code",
      "metadata": {
        "id": "qh-p7pDQZVga",
        "trusted": false
      },
      "source": [
        "new_model.load_weights('drive/My Drive/bert_wieghts.h5')"
      ],
      "execution_count": null,
      "outputs": []
    },
    {
      "cell_type": "code",
      "metadata": {
        "id": "fJukyfyQZclV",
        "trusted": false
      },
      "source": [
        "res = new_model.predict([test_inp[:25], test_mask[:25], test_token_type[:25]])"
      ],
      "execution_count": null,
      "outputs": []
    },
    {
      "cell_type": "code",
      "metadata": {
        "id": "j6EQEh8cU7Oh",
        "trusted": false,
        "colab": {
          "base_uri": "https://localhost:8080/",
          "height": 1000
        },
        "outputId": "ee553915-736b-4508-e4af-301ef49c55ed"
      },
      "source": [
        "for actual, pred in zip(y_test[:25], a):\n",
        "  print(\"Actual\")\n",
        "  print(multi_ban.inverse_transform(np.array([actual])))\n",
        "  print(\"Predictions\")\n",
        "  pred = np.flip(pred)\n",
        "  print(pred)\n",
        "  print(inverse_list[pred])\n",
        "  print()\n",
        "  print(\"*******************\")\n",
        "  print()"
      ],
      "execution_count": null,
      "outputs": [
        {
          "output_type": "stream",
          "text": [
            "Actual\n",
            "[('action', 'adventure', 'crime', 'fiction', 'political', 'spy', 'suspense', 'thriller')]\n",
            "Predictions\n",
            "[94  1 34 28 44]\n",
            "['thriller' 'action' 'drama' 'crime' 'fiction']\n",
            "\n",
            "*******************\n",
            "\n",
            "Actual\n",
            "[('action', 'adventure', 'costume', 'drama', 'fantasy', 'sword and sorcery')]\n",
            "Predictions\n",
            "[42  3  1 34 26]\n",
            "['fantasy' 'adventure' 'action' 'drama' 'costume']\n",
            "\n",
            "*******************\n",
            "\n",
            "Actual\n",
            "[('documentary', 'drama')]\n",
            "Predictions\n",
            "[24 34 74 42  3]\n",
            "['comedy' 'drama' 'romance' 'fantasy' 'adventure']\n",
            "\n",
            "*******************\n",
            "\n",
            "Actual\n",
            "[('drama', 'fantasy')]\n",
            "Predictions\n",
            "[34 74 24 42 94]\n",
            "['drama' 'romance' 'comedy' 'fantasy' 'thriller']\n",
            "\n",
            "*******************\n",
            "\n",
            "Actual\n",
            "[('adventure', 'crime', 'fiction', 'horror', 'supernatural', 'teen', 'thriller')]\n",
            "Predictions\n",
            "[55 12 94 24 29]\n",
            "['horror' 'b-movie' 'thriller' 'comedy' 'culture']\n",
            "\n",
            "*******************\n",
            "\n",
            "Actual\n",
            "[('fantasy',)]\n",
            "Predictions\n",
            "[41  7 24 42  3]\n",
            "['family' 'anime' 'comedy' 'fantasy' 'adventure']\n",
            "\n",
            "*******************\n",
            "\n",
            "Actual\n",
            "[('action', 'adventure', 'drama', 'western')]\n",
            "Predictions\n",
            "[98  1 24  3 16]\n",
            "['western' 'action' 'comedy' 'adventure' 'black-and-white']\n",
            "\n",
            "*******************\n",
            "\n",
            "Actual\n",
            "[('comedy', 'musical', 'teen')]\n",
            "Predictions\n",
            "[24  7 63 74  1]\n",
            "['comedy' 'anime' 'musical' 'romance' 'action']\n",
            "\n",
            "*******************\n",
            "\n",
            "Actual\n",
            "[('drama',)]\n",
            "Predictions\n",
            "[94 55 34  1 24]\n",
            "['thriller' 'horror' 'drama' 'action' 'comedy']\n",
            "\n",
            "*******************\n",
            "\n",
            "Actual\n",
            "[('black-and-white', 'musical')]\n",
            "Predictions\n",
            "[24 16 63 79 74]\n",
            "['comedy' 'black-and-white' 'musical' 'slapstick' 'romance']\n",
            "\n",
            "*******************\n",
            "\n",
            "Actual\n",
            "[('comedy', 'musical')]\n",
            "Predictions\n",
            "[24 16 63 74 41]\n",
            "['comedy' 'black-and-white' 'musical' 'romance' 'family']\n",
            "\n",
            "*******************\n",
            "\n",
            "Actual\n",
            "[('adult', 'drama', 'film adaptation', 'suspense', 'thriller')]\n",
            "Predictions\n",
            "[24 34 74 25 41]\n",
            "['comedy' 'drama' 'romance' 'coming of age' 'family']\n",
            "\n",
            "*******************\n",
            "\n",
            "Actual\n",
            "[('adventure', 'childhood', 'family', 'fantasy')]\n",
            "Predictions\n",
            "[41  7 42 23  3]\n",
            "['family' 'anime' 'fantasy' 'childhood' 'adventure']\n",
            "\n",
            "*******************\n",
            "\n",
            "Actual\n",
            "[('horror', 'thriller')]\n",
            "Predictions\n",
            "[55 94 24 34 64]\n",
            "['horror' 'thriller' 'comedy' 'drama' 'mystery']\n",
            "\n",
            "*******************\n",
            "\n",
            "Actual\n",
            "[('black-and-white', 'comedy', 'silent film')]\n",
            "Predictions\n",
            "[74 34 24 16 63]\n",
            "['romance' 'drama' 'comedy' 'black-and-white' 'musical']\n",
            "\n",
            "*******************\n",
            "\n",
            "Actual\n",
            "[('drama', 'fantasy', 'musical', 'romance', 'sci-fi')]\n",
            "Predictions\n",
            "[76 24 42  7 41]\n",
            "['sci-fi' 'comedy' 'fantasy' 'anime' 'family']\n",
            "\n",
            "*******************\n",
            "\n",
            "Actual\n",
            "[('drama', 'gay')]\n",
            "Predictions\n",
            "[49 34 24 74  2]\n",
            "['gay' 'drama' 'comedy' 'romance' 'adult']\n",
            "\n",
            "*******************\n",
            "\n",
            "Actual\n",
            "[('documentary', 'political')]\n",
            "Predictions\n",
            "[33 34 67 14 24]\n",
            "['documentary' 'drama' 'political' 'biography' 'comedy']\n",
            "\n",
            "*******************\n",
            "\n",
            "Actual\n",
            "[('comedy', 'musical')]\n",
            "Predictions\n",
            "[34 74 24 16 41]\n",
            "['drama' 'romance' 'comedy' 'black-and-white' 'family']\n",
            "\n",
            "*******************\n",
            "\n",
            "Actual\n",
            "[('adult',)]\n",
            "Predictions\n",
            "[34  2 74 94 24]\n",
            "['drama' 'adult' 'romance' 'thriller' 'comedy']\n",
            "\n",
            "*******************\n",
            "\n",
            "Actual\n",
            "[('action', 'adventure', 'creature film', 'horror', 'thriller')]\n",
            "Predictions\n",
            "[55 94 12 29  1]\n",
            "['horror' 'thriller' 'b-movie' 'culture' 'action']\n",
            "\n",
            "*******************\n",
            "\n",
            "Actual\n",
            "[('drama',)]\n",
            "Predictions\n",
            "[34 97 16 24  1]\n",
            "['drama' 'war film' 'black-and-white' 'comedy' 'action']\n",
            "\n",
            "*******************\n",
            "\n",
            "Actual\n",
            "[('childhood', 'drama', 'family')]\n",
            "Predictions\n",
            "[41  7 23  3 42]\n",
            "['family' 'anime' 'childhood' 'adventure' 'fantasy']\n",
            "\n",
            "*******************\n",
            "\n",
            "Actual\n",
            "[('comedy', 'drama', 'romance')]\n",
            "Predictions\n",
            "[24 34 74 63  1]\n",
            "['comedy' 'drama' 'romance' 'musical' 'action']\n",
            "\n",
            "*******************\n",
            "\n",
            "Actual\n",
            "[('romance',)]\n",
            "Predictions\n",
            "[24 74 34 42  7]\n",
            "['comedy' 'romance' 'drama' 'fantasy' 'anime']\n",
            "\n",
            "*******************\n",
            "\n"
          ],
          "name": "stdout"
        }
      ]
    }
  ]
}